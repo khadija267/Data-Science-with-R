{
 "cells": [
  {
   "cell_type": "markdown",
   "id": "09b79ad0",
   "metadata": {},
   "source": [
    "## Helpful Functions"
   ]
  },
  {
   "cell_type": "code",
   "execution_count": 1,
   "id": "0ce3e128",
   "metadata": {},
   "outputs": [
    {
     "name": "stderr",
     "output_type": "stream",
     "text": [
      "Loading required package: Rcpp\n",
      "## \n",
      "## Amelia II: Multiple Imputation\n",
      "## (Version 1.8.0, built: 2021-05-26)\n",
      "## Copyright (C) 2005-2022 James Honaker, Gary King and Matthew Blackwell\n",
      "## Refer to http://gking.harvard.edu/amelia/ for more information\n",
      "## \n",
      "\n",
      "Attaching package: ‘dplyr’\n",
      "\n",
      "The following objects are masked from ‘package:stats’:\n",
      "\n",
      "    filter, lag\n",
      "\n",
      "The following objects are masked from ‘package:base’:\n",
      "\n",
      "    intersect, setdiff, setequal, union\n",
      "\n"
     ]
    }
   ],
   "source": [
    "# ignore warnings\n",
    "options(warn=-1)\n",
    "# Data visualization libraries\n",
    "\n",
    "# plot missing data\n",
    "library(Amelia)\n",
    "# barplot\n",
    "library(ggplot2)\n",
    "# Multi-variate barplot\n",
    "#install.packages(\"gcookbook\")\n",
    "library(gcookbook)\n",
    "library(dplyr)\n",
    "# resize figures function\n",
    "fig <- function(width, heigth){\n",
    "     options(repr.plot.width = width, repr.plot.height = heigth)\n",
    "}\n",
    "#draw confusion matrix\n",
    "draw_confusion_matrix <- function(cm) {\n",
    "  \n",
    "  layout(matrix(c(1,1,2)))\n",
    "  par(mar=c(2,2,2,2))\n",
    "  plot(c(100, 345), c(300, 450), type = \"n\", xlab=\"\", ylab=\"\", xaxt='n', yaxt='n')\n",
    "  title('CONFUSION MATRIX', cex.main=2)\n",
    "  \n",
    "  # create the matrix \n",
    "  rect(150, 430, 240, 370, col='#3F97D0')\n",
    "  text(195, 435, 'Class1', cex=1.2)\n",
    "  rect(250, 430, 340, 370, col='#F7AD50')\n",
    "  text(295, 435, 'Class2', cex=1.2)\n",
    "  text(125, 370, 'Predicted', cex=1.3, srt=90, font=2)\n",
    "  text(245, 450, 'Actual', cex=1.3, font=2)\n",
    "  rect(150, 305, 240, 365, col='#F7AD50')\n",
    "  rect(250, 305, 340, 365, col='#3F97D0')\n",
    "  text(140, 400, 'Class1', cex=1.2, srt=90)\n",
    "  text(140, 335, 'Class2', cex=1.2, srt=90)\n",
    "  \n",
    "  # add in the cm results \n",
    "  res <- as.numeric(cm$table)\n",
    "  text(195, 400, res[1], cex=1.6, font=2, col='white')\n",
    "  text(195, 335, res[2], cex=1.6, font=2, col='white')\n",
    "  text(295, 400, res[3], cex=1.6, font=2, col='white')\n",
    "  text(295, 335, res[4], cex=1.6, font=2, col='white')\n",
    "  \n",
    "  # add in the specifics \n",
    "  plot(c(100, 0), c(100, 0), type = \"n\", xlab=\"\", ylab=\"\", main = \"DETAILS\", xaxt='n', yaxt='n')\n",
    "  text(10, 85, names(cm$byClass[1]), cex=1.2, font=2)\n",
    "  text(10, 70, round(as.numeric(cm$byClass[1]), 3), cex=1.2)\n",
    "  text(30, 85, names(cm$byClass[2]), cex=1.2, font=2)\n",
    "  text(30, 70, round(as.numeric(cm$byClass[2]), 3), cex=1.2)\n",
    "  text(50, 85, names(cm$byClass[5]), cex=1.2, font=2)\n",
    "  text(50, 70, round(as.numeric(cm$byClass[5]), 3), cex=1.2)\n",
    "  text(70, 85, names(cm$byClass[6]), cex=1.2, font=2)\n",
    "  text(70, 70, round(as.numeric(cm$byClass[6]), 3), cex=1.2)\n",
    "  text(90, 85, names(cm$byClass[7]), cex=1.2, font=2)\n",
    "  text(90, 70, round(as.numeric(cm$byClass[7]), 3), cex=1.2)\n",
    "  \n",
    "  # add in the accuracy information \n",
    "  text(30, 35, names(cm$overall[1]), cex=1.5, font=2)\n",
    "  text(30, 20, round(as.numeric(cm$overall[1]), 3), cex=1.4)\n",
    "  text(70, 35, names(cm$overall[2]), cex=1.5, font=2)\n",
    "  text(70, 20, round(as.numeric(cm$overall[2]), 3), cex=1.4)\n",
    "}\n",
    "\n",
    "classification_error_rate <- function(df){\n",
    "        names   = c(\"class\", \"scored.class\")\n",
    "        columns = df[colnames(df) %in% names]\n",
    "        t       = table(columns)\n",
    "        classification_error_rate = (t[1,2] + t[2,1]) / (t[2,2] + t[1,2] + t[1,1] +         t[2,1])\n",
    "        classification_error_rate = round(classification_error_rate, 2)\n",
    "        paste0('The classification error rate is: ',classification_error_rate)\n",
    "}\n",
    "prediction_accuracy <- function(df){\n",
    "        names    = c(\"class\", \"scored.class\")\n",
    "        columns  = df[colnames(df) %in% names]\n",
    "        t        = table(columns)\n",
    "        accuracy = (t[2,2] + t[1,1]) / (t[2,2] + t[1,2] + t[1,1] + t[2,1])\n",
    "        accuracy = round(accuracy, 2)\n",
    "        paste0(\"The prediction accuracy is: \", accuracy)\n",
    "}\n",
    "precision <- function(df){\n",
    "        names   = c(\"class\", \"scored.class\")\n",
    "        columns = df[colnames(df) %in% names]\n",
    "        t       = table(columns)\n",
    "        p       = (t[2,2] / (t[2,2] + t[1,2]))\n",
    "        p       = round(p, 2)\n",
    "        paste0('The precision is: ', p)\n",
    "}\n",
    "sensitivity <- function(df){\n",
    "        names   = c(\"class\", \"scored.class\")\n",
    "        columns = df[colnames(df) %in% names]\n",
    "        t       = table(columns)\n",
    "        s       = t[2,2] / (t[2,2] + t[2,1])\n",
    "        s       = round(s,2)\n",
    "        paste0('The sensitiity is: ',s)\n",
    "}\n",
    "specificity <- function(df){\n",
    "        names   = c(\"class\", \"scored.class\")\n",
    "        columns = df[colnames(df) %in% names]\n",
    "        t       = table(columns)\n",
    "        s       = t[1,1] / (t[1,1] + t[1,2])\n",
    "        s       = round(s,2)\n",
    "        paste0('The specificity is: ',s)\n",
    "}\n",
    "f1.score <- function(df){\n",
    "        names   = c(\"class\", \"scored.class\")\n",
    "        columns = df[colnames(df) %in% names]\n",
    "        t = table(columns)\n",
    "        p = (t[2,2] / (t[2,2] + t[1,2]))\n",
    "        s = t[2,2] / (t[2,2] + t[2,1])\n",
    "        f1 = (2*p*s) / (p + s)\n",
    "        f1 = round(f1, 2)\n",
    "        paste0(\"The F1 score is: \", f1)\n",
    "}\n",
    "get.rocPlot.auc = function(df){\n",
    "library(ggplot2)\n",
    "threshold.grid = seq(0,1, by= 0.01)\n",
    "predicted.classes = data.frame(row.names = 1:nrow(df))\n",
    "x = seq_along(threshold.grid)\n",
    "y = seq_along(threshold.grid)\n",
    "for (i in threshold.grid) {\n",
    "        yhat = as.numeric(df$scored.probability>i)\n",
    "        predicted.classes = cbind(predicted.classes, yhat)\n",
    "}\n",
    "for (j in 1:length(threshold.grid)){\n",
    "                class.factor = factor(df$class,levels = c(0,1))\n",
    "                predicted.class.factor = factor(predicted.classes[,j], levels = c(0,1))\n",
    "                t = table(class.factor, predicted.class.factor)\n",
    "                sensitivity = t[2,2] / (t[2,2] + t[2,1])\n",
    "                specificity = t[1,1] / (t[1,1] + t[1,2])\n",
    "                y[j] = sensitivity\n",
    "                x[j] = 1 - specificity\n",
    "}\n",
    "\n",
    "roc.data = data.frame(fpr = x, tpr = y)\n",
    "roc.plot = ggplot(roc.data, aes(x=fpr, y=tpr)) + geom_step()\n",
    "roc.plot = roc.plot + geom_abline(slope = 1, intercept = c(0,0), colour=\"red\", lty=2)\n",
    "\n",
    "my_auc <- function(outcome, proba){\n",
    " N = length(proba)\n",
    " N_pos = sum(outcome)\n",
    " df = data.frame(out = outcome, prob = proba)\n",
    " df = df[order(-df$prob),]\n",
    " df$above = (1:N) - cumsum(df$out)\n",
    " return( 1- sum( df$above * df$out ) / (N_pos * (N-N_pos) ) )\n",
    "}\n",
    "\n",
    "auc1 = my_auc(preds$class,preds$scored.probability)\n",
    "results = list(\"Plot\"=roc.plot, \"Area under curve\"=auc1)\n",
    "results\n",
    "}"
   ]
  },
  {
   "cell_type": "markdown",
   "id": "bbcbae40",
   "metadata": {},
   "source": [
    "# Data Gathering and Visualization"
   ]
  },
  {
   "cell_type": "code",
   "execution_count": 2,
   "id": "d6e18345",
   "metadata": {},
   "outputs": [
    {
     "data": {
      "text/html": [
       "<table>\n",
       "<thead><tr><th scope=col>X</th><th scope=col>Date.reported</th><th scope=col>Alberta.Health.Services.Zone</th><th scope=col>Gender</th><th scope=col>Age.group</th><th scope=col>Case.status</th><th scope=col>Case.type</th></tr></thead>\n",
       "<tbody>\n",
       "\t<tr><td>1            </td><td>2020-11-13   </td><td>Calgary Zone </td><td>Female       </td><td>1-4 years    </td><td>Recovered    </td><td>Confirmed    </td></tr>\n",
       "\t<tr><td>2            </td><td>2021-04-21   </td><td>Edmonton Zone</td><td>Male         </td><td>30-39 years  </td><td>Recovered    </td><td>Confirmed    </td></tr>\n",
       "\t<tr><td>3            </td><td>2021-05-17   </td><td>North Zone   </td><td>Male         </td><td>10-19 years  </td><td>Recovered    </td><td>Confirmed    </td></tr>\n",
       "\t<tr><td>4            </td><td>2020-12-13   </td><td>Edmonton Zone</td><td>Male         </td><td>5-9 years    </td><td>Recovered    </td><td>Confirmed    </td></tr>\n",
       "\t<tr><td>5            </td><td>2021-01-05   </td><td>Central Zone </td><td>Male         </td><td>50-59 years  </td><td>Recovered    </td><td>Confirmed    </td></tr>\n",
       "\t<tr><td>6            </td><td>2021-05-11   </td><td>Edmonton Zone</td><td>Male         </td><td>60-69 years  </td><td>Recovered    </td><td>Confirmed    </td></tr>\n",
       "</tbody>\n",
       "</table>\n"
      ],
      "text/latex": [
       "\\begin{tabular}{r|lllllll}\n",
       " X & Date.reported & Alberta.Health.Services.Zone & Gender & Age.group & Case.status & Case.type\\\\\n",
       "\\hline\n",
       "\t 1             & 2020-11-13    & Calgary Zone  & Female        & 1-4 years     & Recovered     & Confirmed    \\\\\n",
       "\t 2             & 2021-04-21    & Edmonton Zone & Male          & 30-39 years   & Recovered     & Confirmed    \\\\\n",
       "\t 3             & 2021-05-17    & North Zone    & Male          & 10-19 years   & Recovered     & Confirmed    \\\\\n",
       "\t 4             & 2020-12-13    & Edmonton Zone & Male          & 5-9 years     & Recovered     & Confirmed    \\\\\n",
       "\t 5             & 2021-01-05    & Central Zone  & Male          & 50-59 years   & Recovered     & Confirmed    \\\\\n",
       "\t 6             & 2021-05-11    & Edmonton Zone & Male          & 60-69 years   & Recovered     & Confirmed    \\\\\n",
       "\\end{tabular}\n"
      ],
      "text/markdown": [
       "\n",
       "| X | Date.reported | Alberta.Health.Services.Zone | Gender | Age.group | Case.status | Case.type |\n",
       "|---|---|---|---|---|---|---|\n",
       "| 1             | 2020-11-13    | Calgary Zone  | Female        | 1-4 years     | Recovered     | Confirmed     |\n",
       "| 2             | 2021-04-21    | Edmonton Zone | Male          | 30-39 years   | Recovered     | Confirmed     |\n",
       "| 3             | 2021-05-17    | North Zone    | Male          | 10-19 years   | Recovered     | Confirmed     |\n",
       "| 4             | 2020-12-13    | Edmonton Zone | Male          | 5-9 years     | Recovered     | Confirmed     |\n",
       "| 5             | 2021-01-05    | Central Zone  | Male          | 50-59 years   | Recovered     | Confirmed     |\n",
       "| 6             | 2021-05-11    | Edmonton Zone | Male          | 60-69 years   | Recovered     | Confirmed     |\n",
       "\n"
      ],
      "text/plain": [
       "  X Date.reported Alberta.Health.Services.Zone Gender Age.group   Case.status\n",
       "1 1 2020-11-13    Calgary Zone                 Female 1-4 years   Recovered  \n",
       "2 2 2021-04-21    Edmonton Zone                Male   30-39 years Recovered  \n",
       "3 3 2021-05-17    North Zone                   Male   10-19 years Recovered  \n",
       "4 4 2020-12-13    Edmonton Zone                Male   5-9 years   Recovered  \n",
       "5 5 2021-01-05    Central Zone                 Male   50-59 years Recovered  \n",
       "6 6 2021-05-11    Edmonton Zone                Male   60-69 years Recovered  \n",
       "  Case.type\n",
       "1 Confirmed\n",
       "2 Confirmed\n",
       "3 Confirmed\n",
       "4 Confirmed\n",
       "5 Confirmed\n",
       "6 Confirmed"
      ]
     },
     "metadata": {},
     "output_type": "display_data"
    }
   ],
   "source": [
    "df =read.csv(\"https://raw.githubusercontent.com/mofouadelsayed/Harvard.Capstone/main/covid-19-alberta-statistics-data.csv\",header =TRUE, sep =\",\",stringsAsFactors = FALSE)\n",
    "\n",
    "head(df)"
   ]
  },
  {
   "cell_type": "code",
   "execution_count": 3,
   "id": "84f3fea2",
   "metadata": {},
   "outputs": [
    {
     "name": "stdout",
     "output_type": "stream",
     "text": [
      "[1] \"Data dimension\"\n"
     ]
    },
    {
     "data": {
      "text/html": [
       "<ol class=list-inline>\n",
       "\t<li>312285</li>\n",
       "\t<li>7</li>\n",
       "</ol>\n"
      ],
      "text/latex": [
       "\\begin{enumerate*}\n",
       "\\item 312285\n",
       "\\item 7\n",
       "\\end{enumerate*}\n"
      ],
      "text/markdown": [
       "1. 312285\n",
       "2. 7\n",
       "\n",
       "\n"
      ],
      "text/plain": [
       "[1] 312285      7"
      ]
     },
     "metadata": {},
     "output_type": "display_data"
    },
    {
     "name": "stdout",
     "output_type": "stream",
     "text": [
      "[1] \"Number of missing values\"\n"
     ]
    },
    {
     "data": {
      "text/html": [
       "0"
      ],
      "text/latex": [
       "0"
      ],
      "text/markdown": [
       "0"
      ],
      "text/plain": [
       "[1] 0"
      ]
     },
     "metadata": {},
     "output_type": "display_data"
    },
    {
     "name": "stdout",
     "output_type": "stream",
     "text": [
      "[1] \"Number of duplicated values\"\n"
     ]
    },
    {
     "data": {
      "text/html": [
       "0"
      ],
      "text/latex": [
       "0"
      ],
      "text/markdown": [
       "0"
      ],
      "text/plain": [
       "[1] 0"
      ]
     },
     "metadata": {},
     "output_type": "display_data"
    }
   ],
   "source": [
    "# data characteristics\n",
    "print(\"Data dimension\")\n",
    "dim(df)\n",
    "\n",
    "print(\"Number of missing values\")\n",
    "sum(is.na(df))\n",
    "\n",
    "print(\"Number of duplicated values\")\n",
    "dim(df[duplicated(df),])[1]\n"
   ]
  },
  {
   "cell_type": "markdown",
   "id": "2009cf19",
   "metadata": {},
   "source": [
    "Data has 7 features and +300K observations"
   ]
  },
  {
   "cell_type": "markdown",
   "id": "3677415d",
   "metadata": {},
   "source": [
    "Data has no missing values."
   ]
  },
  {
   "cell_type": "code",
   "execution_count": 4,
   "id": "dbe07b80",
   "metadata": {
    "scrolled": false
   },
   "outputs": [
    {
     "data": {
      "image/png": "[encoded data removed]",
      "text/plain": [
       "Plot with title “Missingness Map”"
      ]
     },
     "metadata": {},
     "output_type": "display_data"
    }
   ],
   "source": [
    "# plot missing data\n",
    "missmap(df, col=c(\"blue\", \"red\"), legend=FALSE)"
   ]
  },
  {
   "cell_type": "markdown",
   "id": "80e41b47",
   "metadata": {},
   "source": [
    "Data is guaranteed not to have missing values."
   ]
  },
  {
   "cell_type": "markdown",
   "id": "fca11c58",
   "metadata": {},
   "source": [
    "## Univarite Analysis"
   ]
  },
  {
   "cell_type": "markdown",
   "id": "79242456",
   "metadata": {},
   "source": [
    "### 1. Zone\n",
    "- The data  points are collected mainly from Calgary Zone and Edmonton Zone."
   ]
  },
  {
   "cell_type": "code",
   "execution_count": 6,
   "id": "af184fe7",
   "metadata": {
    "scrolled": false
   },
   "outputs": [
    {
     "data": {
      "image/png": "[encoded data removed]",
      "text/plain": [
       "plot without title"
      ]
     },
     "metadata": {},
     "output_type": "display_data"
    }
   ],
   "source": [
    "fig(7,3)\n",
    "df <- within(df, \n",
    "                   Alberta.Health.Services.Zone <- factor(Alberta.Health.Services.Zone, \n",
    "                                      levels=names(sort(table(Alberta.Health.Services.Zone), \n",
    "                                                        decreasing=TRUE))))\n",
    "\n",
    "ggplot(df,aes(x=Alberta.Health.Services.Zone))+geom_bar(width=.5) + labs(title=\"Plot of Zone\") \n",
    "\n"
   ]
  },
  {
   "cell_type": "markdown",
   "id": "b123101e",
   "metadata": {},
   "source": [
    "### 2. Age Group\n",
    "- The data  points are concentrated between [10 - 49 ] years.\n",
    "- The most frequent age group is between [30 - 39 ] years."
   ]
  },
  {
   "cell_type": "code",
   "execution_count": 7,
   "id": "df764636",
   "metadata": {},
   "outputs": [
    {
     "data": {
      "image/png": "[encoded data removed]",
      "text/plain": [
       "plot without title"
      ]
     },
     "metadata": {},
     "output_type": "display_data"
    }
   ],
   "source": [
    "fig(5,3)\n",
    "df <- within(df, \n",
    "                   Age.group <- factor(Age.group, \n",
    "                                      levels=names(sort(table(Age.group), \n",
    "                                                        decreasing=TRUE))))\n",
    "ggplot(df,aes(y=Age.group))+geom_bar(width=.5)+ labs(title=\"Plot of Age group\") \n"
   ]
  },
  {
   "cell_type": "markdown",
   "id": "f0346e1a",
   "metadata": {},
   "source": [
    "### 3. Status\n",
    "- The majority of data points are in the recoverd status."
   ]
  },
  {
   "cell_type": "code",
   "execution_count": 8,
   "id": "05f632b9",
   "metadata": {},
   "outputs": [
    {
     "data": {
      "image/png": "[encoded data removed]",
      "text/plain": [
       "plot without title"
      ]
     },
     "metadata": {},
     "output_type": "display_data"
    }
   ],
   "source": [
    "fig(5,3)\n",
    "df <- within(df, \n",
    "                   Status <- factor(Case.status, \n",
    "                                      levels=names(sort(table(Case.status), \n",
    "                                                        decreasing=TRUE))))\n",
    "ggplot(df,aes(x=Case.status))+geom_bar(width=.5)+ labs(title=\"Plot of Status\") "
   ]
  },
  {
   "cell_type": "markdown",
   "id": "d53e21a4",
   "metadata": {},
   "source": [
    "### 4. Type (Label)\n",
    "- The majority of data points are of the confirmed type.\n",
    "- Data is unbalanced, hence we may need upsampling."
   ]
  },
  {
   "cell_type": "code",
   "execution_count": 9,
   "id": "778bef26",
   "metadata": {},
   "outputs": [
    {
     "data": {
      "image/png": "[encoded data removed]",
      "text/plain": [
       "plot without title"
      ]
     },
     "metadata": {},
     "output_type": "display_data"
    }
   ],
   "source": [
    "fig(5,3)\n",
    "df <- within(df, \n",
    "                   Type <- factor(Case.type, \n",
    "                                      levels=names(sort(table(Case.type), \n",
    "                                                        decreasing=TRUE))))\n",
    "ggplot(df,aes(x=Case.type))+geom_bar(width=.5)+ labs(title=\"Plot of Type\") "
   ]
  },
  {
   "cell_type": "markdown",
   "id": "6b12e6e5",
   "metadata": {},
   "source": [
    "### 5. Gender\n",
    "- The data has equally data points from both gender."
   ]
  },
  {
   "cell_type": "code",
   "execution_count": 10,
   "id": "d99a2d22",
   "metadata": {},
   "outputs": [
    {
     "data": {
      "image/png": "[encoded data removed]",
      "text/plain": [
       "plot without title"
      ]
     },
     "metadata": {},
     "output_type": "display_data"
    }
   ],
   "source": [
    "fig(5,3)\n",
    "df <- within(df, \n",
    "                   Gender <- factor(Gender, \n",
    "                                      levels=names(sort(table(Gender), \n",
    "                                                        decreasing=TRUE))))\n",
    "ggplot(df,aes(x=Gender))+geom_bar(width=.5)+ labs(title=\"Plot of Gender\") "
   ]
  },
  {
   "cell_type": "markdown",
   "id": "0227ec7d",
   "metadata": {},
   "source": [
    "## Multi-Variate Analysis\n",
    " the relation between case type and status over different zones."
   ]
  },
  {
   "cell_type": "code",
   "execution_count": 13,
   "id": "c23ee6a8",
   "metadata": {
    "scrolled": false
   },
   "outputs": [
    {
     "data": {
      "image/png": "[encoded data removed]",
      "text/plain": [
       "plot without title"
      ]
     },
     "metadata": {},
     "output_type": "display_data"
    }
   ],
   "source": [
    "\n",
    "ggplot(df, aes(x = Case.status, y = Alberta.Health.Services.Zone, fill = Case.type)) +\n",
    "  geom_col(width = 0.5, position = \"dodge\")"
   ]
  },
  {
   "cell_type": "markdown",
   "id": "1d4a821e",
   "metadata": {},
   "source": [
    "## Data Preparation"
   ]
  },
  {
   "cell_type": "code",
   "execution_count": 29,
   "id": "199964d7",
   "metadata": {},
   "outputs": [],
   "source": [
    "# Exclude Unkown and not needed entries\n",
    "df<- df %>% filter(!Age.group== \"Unknown\") %>% filter(!Gender== \"Unknown\") %>% filter(!Case.status== \"Active\")"
   ]
  },
  {
   "cell_type": "code",
   "execution_count": 31,
   "id": "d4e9eb94",
   "metadata": {},
   "outputs": [
    {
     "data": {
      "text/html": [
       "<table>\n",
       "<thead><tr><th scope=col>X</th><th scope=col>Date.reported</th><th scope=col>Alberta.Health.Services.Zone</th><th scope=col>Gender</th><th scope=col>Age.group</th><th scope=col>Case.status</th><th scope=col>Case.type</th></tr></thead>\n",
       "<tbody>\n",
       "\t<tr><td>1            </td><td>2020-11-13   </td><td>Calgary Zone </td><td>Female       </td><td>1-4 years    </td><td>Recovered    </td><td>Confirmed    </td></tr>\n",
       "\t<tr><td>2            </td><td>2021-04-21   </td><td>Edmonton Zone</td><td>Male         </td><td>30-39 years  </td><td>Recovered    </td><td>Confirmed    </td></tr>\n",
       "\t<tr><td>3            </td><td>2021-05-17   </td><td>North Zone   </td><td>Male         </td><td>10-19 years  </td><td>Recovered    </td><td>Confirmed    </td></tr>\n",
       "\t<tr><td>4            </td><td>2020-12-13   </td><td>Edmonton Zone</td><td>Male         </td><td>5-9 years    </td><td>Recovered    </td><td>Confirmed    </td></tr>\n",
       "\t<tr><td>5            </td><td>2021-01-05   </td><td>Central Zone </td><td>Male         </td><td>50-59 years  </td><td>Recovered    </td><td>Confirmed    </td></tr>\n",
       "\t<tr><td>6            </td><td>2021-05-11   </td><td>Edmonton Zone</td><td>Male         </td><td>60-69 years  </td><td>Recovered    </td><td>Confirmed    </td></tr>\n",
       "</tbody>\n",
       "</table>\n"
      ],
      "text/latex": [
       "\\begin{tabular}{r|lllllll}\n",
       " X & Date.reported & Alberta.Health.Services.Zone & Gender & Age.group & Case.status & Case.type\\\\\n",
       "\\hline\n",
       "\t 1             & 2020-11-13    & Calgary Zone  & Female        & 1-4 years     & Recovered     & Confirmed    \\\\\n",
       "\t 2             & 2021-04-21    & Edmonton Zone & Male          & 30-39 years   & Recovered     & Confirmed    \\\\\n",
       "\t 3             & 2021-05-17    & North Zone    & Male          & 10-19 years   & Recovered     & Confirmed    \\\\\n",
       "\t 4             & 2020-12-13    & Edmonton Zone & Male          & 5-9 years     & Recovered     & Confirmed    \\\\\n",
       "\t 5             & 2021-01-05    & Central Zone  & Male          & 50-59 years   & Recovered     & Confirmed    \\\\\n",
       "\t 6             & 2021-05-11    & Edmonton Zone & Male          & 60-69 years   & Recovered     & Confirmed    \\\\\n",
       "\\end{tabular}\n"
      ],
      "text/markdown": [
       "\n",
       "| X | Date.reported | Alberta.Health.Services.Zone | Gender | Age.group | Case.status | Case.type |\n",
       "|---|---|---|---|---|---|---|\n",
       "| 1             | 2020-11-13    | Calgary Zone  | Female        | 1-4 years     | Recovered     | Confirmed     |\n",
       "| 2             | 2021-04-21    | Edmonton Zone | Male          | 30-39 years   | Recovered     | Confirmed     |\n",
       "| 3             | 2021-05-17    | North Zone    | Male          | 10-19 years   | Recovered     | Confirmed     |\n",
       "| 4             | 2020-12-13    | Edmonton Zone | Male          | 5-9 years     | Recovered     | Confirmed     |\n",
       "| 5             | 2021-01-05    | Central Zone  | Male          | 50-59 years   | Recovered     | Confirmed     |\n",
       "| 6             | 2021-05-11    | Edmonton Zone | Male          | 60-69 years   | Recovered     | Confirmed     |\n",
       "\n"
      ],
      "text/plain": [
       "  X Date.reported Alberta.Health.Services.Zone Gender Age.group   Case.status\n",
       "1 1 2020-11-13    Calgary Zone                 Female 1-4 years   Recovered  \n",
       "2 2 2021-04-21    Edmonton Zone                Male   30-39 years Recovered  \n",
       "3 3 2021-05-17    North Zone                   Male   10-19 years Recovered  \n",
       "4 4 2020-12-13    Edmonton Zone                Male   5-9 years   Recovered  \n",
       "5 5 2021-01-05    Central Zone                 Male   50-59 years Recovered  \n",
       "6 6 2021-05-11    Edmonton Zone                Male   60-69 years Recovered  \n",
       "  Case.type\n",
       "1 Confirmed\n",
       "2 Confirmed\n",
       "3 Confirmed\n",
       "4 Confirmed\n",
       "5 Confirmed\n",
       "6 Confirmed"
      ]
     },
     "metadata": {},
     "output_type": "display_data"
    }
   ],
   "source": [
    "head(df)"
   ]
  },
  {
   "cell_type": "code",
   "execution_count": 32,
   "id": "90da13a0",
   "metadata": {},
   "outputs": [
    {
     "name": "stdout",
     "output_type": "stream",
     "text": [
      "       Age.group    \n",
      " 30-39 years:57096  \n",
      " 20-29 years:54551  \n",
      " 40-49 years:45724  \n",
      " 10-19 years:40941  \n",
      " 50-59 years:32940  \n",
      " 60-69 years:19432  \n",
      " (Other)    :47045  \n",
      "coded 1 cols 11 levels \n",
      "   Age.group    \n",
      " 6      :57096  \n",
      " 5      :54551  \n",
      " 7      :45724  \n",
      " 4      :40941  \n",
      " 8      :32940  \n",
      " 9      :19432  \n",
      " (Other):47045  \n"
     ]
    },
    {
     "data": {
      "text/html": [
       "<table>\n",
       "<thead><tr><th scope=col>Alberta.Health.Services.Zone.Calgary.Zone</th><th scope=col>Alberta.Health.Services.Zone.Central.Zone</th><th scope=col>Alberta.Health.Services.Zone.Edmonton.Zone</th><th scope=col>Alberta.Health.Services.Zone.North.Zone</th><th scope=col>Alberta.Health.Services.Zone.South.Zone</th><th scope=col>Alberta.Health.Services.Zone.Unknown</th><th scope=col>X</th><th scope=col>Date.reported</th><th scope=col>Alberta.Health.Services.Zone</th><th scope=col>Gender</th><th scope=col>Age.group</th><th scope=col>Case.status</th><th scope=col>Case.type</th></tr></thead>\n",
       "<tbody>\n",
       "\t<tr><td>1            </td><td>0            </td><td>0            </td><td>0            </td><td>0            </td><td>0            </td><td>1            </td><td>2020-11-13   </td><td>Calgary Zone </td><td>0            </td><td>2            </td><td>0            </td><td>1            </td></tr>\n",
       "\t<tr><td>0            </td><td>0            </td><td>1            </td><td>0            </td><td>0            </td><td>0            </td><td>2            </td><td>2021-04-21   </td><td>Edmonton Zone</td><td>1            </td><td>6            </td><td>0            </td><td>1            </td></tr>\n",
       "\t<tr><td>0            </td><td>0            </td><td>0            </td><td>1            </td><td>0            </td><td>0            </td><td>3            </td><td>2021-05-17   </td><td>North Zone   </td><td>1            </td><td>4            </td><td>0            </td><td>1            </td></tr>\n",
       "\t<tr><td>0            </td><td>0            </td><td>1            </td><td>0            </td><td>0            </td><td>0            </td><td>4            </td><td>2020-12-13   </td><td>Edmonton Zone</td><td>1            </td><td>3            </td><td>0            </td><td>1            </td></tr>\n",
       "\t<tr><td>0            </td><td>1            </td><td>0            </td><td>0            </td><td>0            </td><td>0            </td><td>5            </td><td>2021-01-05   </td><td>Central Zone </td><td>1            </td><td>8            </td><td>0            </td><td>1            </td></tr>\n",
       "\t<tr><td>0            </td><td>0            </td><td>1            </td><td>0            </td><td>0            </td><td>0            </td><td>6            </td><td>2021-05-11   </td><td>Edmonton Zone</td><td>1            </td><td>9            </td><td>0            </td><td>1            </td></tr>\n",
       "</tbody>\n",
       "</table>\n"
      ],
      "text/latex": [
       "\\begin{tabular}{r|lllllllllllll}\n",
       " Alberta.Health.Services.Zone.Calgary.Zone & Alberta.Health.Services.Zone.Central.Zone & Alberta.Health.Services.Zone.Edmonton.Zone & Alberta.Health.Services.Zone.North.Zone & Alberta.Health.Services.Zone.South.Zone & Alberta.Health.Services.Zone.Unknown & X & Date.reported & Alberta.Health.Services.Zone & Gender & Age.group & Case.status & Case.type\\\\\n",
       "\\hline\n",
       "\t 1             & 0             & 0             & 0             & 0             & 0             & 1             & 2020-11-13    & Calgary Zone  & 0             & 2             & 0             & 1            \\\\\n",
       "\t 0             & 0             & 1             & 0             & 0             & 0             & 2             & 2021-04-21    & Edmonton Zone & 1             & 6             & 0             & 1            \\\\\n",
       "\t 0             & 0             & 0             & 1             & 0             & 0             & 3             & 2021-05-17    & North Zone    & 1             & 4             & 0             & 1            \\\\\n",
       "\t 0             & 0             & 1             & 0             & 0             & 0             & 4             & 2020-12-13    & Edmonton Zone & 1             & 3             & 0             & 1            \\\\\n",
       "\t 0             & 1             & 0             & 0             & 0             & 0             & 5             & 2021-01-05    & Central Zone  & 1             & 8             & 0             & 1            \\\\\n",
       "\t 0             & 0             & 1             & 0             & 0             & 0             & 6             & 2021-05-11    & Edmonton Zone & 1             & 9             & 0             & 1            \\\\\n",
       "\\end{tabular}\n"
      ],
      "text/markdown": [
       "\n",
       "| Alberta.Health.Services.Zone.Calgary.Zone | Alberta.Health.Services.Zone.Central.Zone | Alberta.Health.Services.Zone.Edmonton.Zone | Alberta.Health.Services.Zone.North.Zone | Alberta.Health.Services.Zone.South.Zone | Alberta.Health.Services.Zone.Unknown | X | Date.reported | Alberta.Health.Services.Zone | Gender | Age.group | Case.status | Case.type |\n",
       "|---|---|---|---|---|---|---|---|---|---|---|---|---|\n",
       "| 1             | 0             | 0             | 0             | 0             | 0             | 1             | 2020-11-13    | Calgary Zone  | 0             | 2             | 0             | 1             |\n",
       "| 0             | 0             | 1             | 0             | 0             | 0             | 2             | 2021-04-21    | Edmonton Zone | 1             | 6             | 0             | 1             |\n",
       "| 0             | 0             | 0             | 1             | 0             | 0             | 3             | 2021-05-17    | North Zone    | 1             | 4             | 0             | 1             |\n",
       "| 0             | 0             | 1             | 0             | 0             | 0             | 4             | 2020-12-13    | Edmonton Zone | 1             | 3             | 0             | 1             |\n",
       "| 0             | 1             | 0             | 0             | 0             | 0             | 5             | 2021-01-05    | Central Zone  | 1             | 8             | 0             | 1             |\n",
       "| 0             | 0             | 1             | 0             | 0             | 0             | 6             | 2021-05-11    | Edmonton Zone | 1             | 9             | 0             | 1             |\n",
       "\n"
      ],
      "text/plain": [
       "  Alberta.Health.Services.Zone.Calgary.Zone\n",
       "1 1                                        \n",
       "2 0                                        \n",
       "3 0                                        \n",
       "4 0                                        \n",
       "5 0                                        \n",
       "6 0                                        \n",
       "  Alberta.Health.Services.Zone.Central.Zone\n",
       "1 0                                        \n",
       "2 0                                        \n",
       "3 0                                        \n",
       "4 0                                        \n",
       "5 1                                        \n",
       "6 0                                        \n",
       "  Alberta.Health.Services.Zone.Edmonton.Zone\n",
       "1 0                                         \n",
       "2 1                                         \n",
       "3 0                                         \n",
       "4 1                                         \n",
       "5 0                                         \n",
       "6 1                                         \n",
       "  Alberta.Health.Services.Zone.North.Zone\n",
       "1 0                                      \n",
       "2 0                                      \n",
       "3 1                                      \n",
       "4 0                                      \n",
       "5 0                                      \n",
       "6 0                                      \n",
       "  Alberta.Health.Services.Zone.South.Zone Alberta.Health.Services.Zone.Unknown\n",
       "1 0                                       0                                   \n",
       "2 0                                       0                                   \n",
       "3 0                                       0                                   \n",
       "4 0                                       0                                   \n",
       "5 0                                       0                                   \n",
       "6 0                                       0                                   \n",
       "  X Date.reported Alberta.Health.Services.Zone Gender Age.group Case.status\n",
       "1 1 2020-11-13    Calgary Zone                 0      2         0          \n",
       "2 2 2021-04-21    Edmonton Zone                1      6         0          \n",
       "3 3 2021-05-17    North Zone                   1      4         0          \n",
       "4 4 2020-12-13    Edmonton Zone                1      3         0          \n",
       "5 5 2021-01-05    Central Zone                 1      8         0          \n",
       "6 6 2021-05-11    Edmonton Zone                1      9         0          \n",
       "  Case.type\n",
       "1 1        \n",
       "2 1        \n",
       "3 1        \n",
       "4 1        \n",
       "5 1        \n",
       "6 1        "
      ]
     },
     "metadata": {},
     "output_type": "display_data"
    }
   ],
   "source": [
    "#encode label\n",
    "#install.packages('CatEncoders')\n",
    "library('CatEncoders')\n",
    "#install.packages('cleandata')\n",
    "library(cleandata)\n",
    "\n",
    "df$Case.type = factor(df$Case.type,\n",
    "                       levels = c('Confirmed', 'Probable'),\n",
    "                       labels = c(1, 0))\n",
    "\n",
    "df$Case.status<-  factor(df$Case.status,\n",
    "                               levels = c('Recovered','Died'),\n",
    "                               labels = c(0, 1))\n",
    "\n",
    "\n",
    "df$Gender = factor(df$Gender,\n",
    "                       levels = c('Male', 'Female'),\n",
    "                       labels = c(1, 0))\n",
    "\n",
    "\n",
    "#encode age group ( ordinal encoding)\n",
    "df[,5]<- encode_ordinal(df[, 5, drop = FALSE],order=c('Under 1 year','1-4 years','5-9 years',\n",
    "                                                     '10-19 years','20-29 years',\n",
    "                                                     '30-39 years','40-49 years','50-59 years','60-69 years',\n",
    "                                                     '70-79 years','+80 years'));\n",
    "\n",
    "\n",
    "# encode zone  (categorical data)\n",
    "library(caret)\n",
    "\n",
    "t<- df\n",
    "tt<-df\n",
    "\n",
    "t$Alberta.Health.Services.Zone <- factor(t$Alberta.Health.Services.Zone, exclude = NULL)\n",
    "\n",
    "########Q################\n",
    "# addNA explanation http://www.endmemo.com/r/addna.php\n",
    "t$Zone <- addNA(t$Alberta.Health.Services.Zone)\n",
    "\n",
    "\n",
    "dv <- caret::dummyVars(\"~Alberta.Health.Services.Zone\", data = t)\n",
    "t <- data.frame(predict(dv, newdata = tt))\n",
    "\n",
    "df_encoded=cbind(t,tt)\n",
    "head(df_encoded)"
   ]
  },
  {
   "cell_type": "code",
   "execution_count": 33,
   "id": "0be92359",
   "metadata": {},
   "outputs": [
    {
     "data": {
      "text/html": [
       "<table>\n",
       "<thead><tr><th scope=col>Alberta.Health.Services.Zone.Calgary.Zone</th><th scope=col>Alberta.Health.Services.Zone.Central.Zone</th><th scope=col>Alberta.Health.Services.Zone.Edmonton.Zone</th><th scope=col>Alberta.Health.Services.Zone.North.Zone</th><th scope=col>Alberta.Health.Services.Zone.South.Zone</th><th scope=col>Alberta.Health.Services.Zone.Unknown</th><th scope=col>Gender</th><th scope=col>Age.group</th><th scope=col>Case.status</th><th scope=col>Case.type</th></tr></thead>\n",
       "<tbody>\n",
       "\t<tr><td>1</td><td>0</td><td>0</td><td>0</td><td>0</td><td>0</td><td>0</td><td>2</td><td>0</td><td>1</td></tr>\n",
       "\t<tr><td>0</td><td>0</td><td>1</td><td>0</td><td>0</td><td>0</td><td>1</td><td>6</td><td>0</td><td>1</td></tr>\n",
       "\t<tr><td>0</td><td>0</td><td>0</td><td>1</td><td>0</td><td>0</td><td>1</td><td>4</td><td>0</td><td>1</td></tr>\n",
       "\t<tr><td>0</td><td>0</td><td>1</td><td>0</td><td>0</td><td>0</td><td>1</td><td>3</td><td>0</td><td>1</td></tr>\n",
       "\t<tr><td>0</td><td>1</td><td>0</td><td>0</td><td>0</td><td>0</td><td>1</td><td>8</td><td>0</td><td>1</td></tr>\n",
       "\t<tr><td>0</td><td>0</td><td>1</td><td>0</td><td>0</td><td>0</td><td>1</td><td>9</td><td>0</td><td>1</td></tr>\n",
       "</tbody>\n",
       "</table>\n"
      ],
      "text/latex": [
       "\\begin{tabular}{r|llllllllll}\n",
       " Alberta.Health.Services.Zone.Calgary.Zone & Alberta.Health.Services.Zone.Central.Zone & Alberta.Health.Services.Zone.Edmonton.Zone & Alberta.Health.Services.Zone.North.Zone & Alberta.Health.Services.Zone.South.Zone & Alberta.Health.Services.Zone.Unknown & Gender & Age.group & Case.status & Case.type\\\\\n",
       "\\hline\n",
       "\t 1 & 0 & 0 & 0 & 0 & 0 & 0 & 2 & 0 & 1\\\\\n",
       "\t 0 & 0 & 1 & 0 & 0 & 0 & 1 & 6 & 0 & 1\\\\\n",
       "\t 0 & 0 & 0 & 1 & 0 & 0 & 1 & 4 & 0 & 1\\\\\n",
       "\t 0 & 0 & 1 & 0 & 0 & 0 & 1 & 3 & 0 & 1\\\\\n",
       "\t 0 & 1 & 0 & 0 & 0 & 0 & 1 & 8 & 0 & 1\\\\\n",
       "\t 0 & 0 & 1 & 0 & 0 & 0 & 1 & 9 & 0 & 1\\\\\n",
       "\\end{tabular}\n"
      ],
      "text/markdown": [
       "\n",
       "| Alberta.Health.Services.Zone.Calgary.Zone | Alberta.Health.Services.Zone.Central.Zone | Alberta.Health.Services.Zone.Edmonton.Zone | Alberta.Health.Services.Zone.North.Zone | Alberta.Health.Services.Zone.South.Zone | Alberta.Health.Services.Zone.Unknown | Gender | Age.group | Case.status | Case.type |\n",
       "|---|---|---|---|---|---|---|---|---|---|\n",
       "| 1 | 0 | 0 | 0 | 0 | 0 | 0 | 2 | 0 | 1 |\n",
       "| 0 | 0 | 1 | 0 | 0 | 0 | 1 | 6 | 0 | 1 |\n",
       "| 0 | 0 | 0 | 1 | 0 | 0 | 1 | 4 | 0 | 1 |\n",
       "| 0 | 0 | 1 | 0 | 0 | 0 | 1 | 3 | 0 | 1 |\n",
       "| 0 | 1 | 0 | 0 | 0 | 0 | 1 | 8 | 0 | 1 |\n",
       "| 0 | 0 | 1 | 0 | 0 | 0 | 1 | 9 | 0 | 1 |\n",
       "\n"
      ],
      "text/plain": [
       "  Alberta.Health.Services.Zone.Calgary.Zone\n",
       "1 1                                        \n",
       "2 0                                        \n",
       "3 0                                        \n",
       "4 0                                        \n",
       "5 0                                        \n",
       "6 0                                        \n",
       "  Alberta.Health.Services.Zone.Central.Zone\n",
       "1 0                                        \n",
       "2 0                                        \n",
       "3 0                                        \n",
       "4 0                                        \n",
       "5 1                                        \n",
       "6 0                                        \n",
       "  Alberta.Health.Services.Zone.Edmonton.Zone\n",
       "1 0                                         \n",
       "2 1                                         \n",
       "3 0                                         \n",
       "4 1                                         \n",
       "5 0                                         \n",
       "6 1                                         \n",
       "  Alberta.Health.Services.Zone.North.Zone\n",
       "1 0                                      \n",
       "2 0                                      \n",
       "3 1                                      \n",
       "4 0                                      \n",
       "5 0                                      \n",
       "6 0                                      \n",
       "  Alberta.Health.Services.Zone.South.Zone Alberta.Health.Services.Zone.Unknown\n",
       "1 0                                       0                                   \n",
       "2 0                                       0                                   \n",
       "3 0                                       0                                   \n",
       "4 0                                       0                                   \n",
       "5 0                                       0                                   \n",
       "6 0                                       0                                   \n",
       "  Gender Age.group Case.status Case.type\n",
       "1 0      2         0           1        \n",
       "2 1      6         0           1        \n",
       "3 1      4         0           1        \n",
       "4 1      3         0           1        \n",
       "5 1      8         0           1        \n",
       "6 1      9         0           1        "
      ]
     },
     "metadata": {},
     "output_type": "display_data"
    }
   ],
   "source": [
    "# drop un-needed columns\n",
    "\n",
    "df_encoded=subset(df_encoded, select=-c(X,Date.reported,Alberta.Health.Services.Zone))\n",
    "head(df_encoded)"
   ]
  },
  {
   "cell_type": "code",
   "execution_count": 34,
   "id": "ae369519",
   "metadata": {},
   "outputs": [
    {
     "name": "stdout",
     "output_type": "stream",
     "text": [
      "'data.frame':\t297729 obs. of  10 variables:\n",
      " $ Alberta.Health.Services.Zone.Calgary.Zone : num  1 0 0 0 0 0 1 0 0 0 ...\n",
      " $ Alberta.Health.Services.Zone.Central.Zone : num  0 0 0 0 1 0 0 0 0 1 ...\n",
      " $ Alberta.Health.Services.Zone.Edmonton.Zone: num  0 1 0 1 0 1 0 0 1 0 ...\n",
      " $ Alberta.Health.Services.Zone.North.Zone   : num  0 0 1 0 0 0 0 0 0 0 ...\n",
      " $ Alberta.Health.Services.Zone.South.Zone   : num  0 0 0 0 0 0 0 1 0 0 ...\n",
      " $ Alberta.Health.Services.Zone.Unknown      : num  0 0 0 0 0 0 0 0 0 0 ...\n",
      " $ Gender                                    : Factor w/ 2 levels \"1\",\"0\": 2 1 1 1 1 1 2 2 2 2 ...\n",
      " $ Age.group                                 : Factor w/ 12 levels \"6\",\"5\",\"7\",\"4\",..: 8 1 4 7 5 6 8 10 11 4 ...\n",
      " $ Case.status                               : Factor w/ 2 levels \"0\",\"1\": 1 1 1 1 1 1 1 1 1 1 ...\n",
      " $ Case.type                                 : Factor w/ 2 levels \"1\",\"0\": 1 1 1 1 1 1 1 1 1 1 ...\n"
     ]
    }
   ],
   "source": [
    "# observe columns data types\n",
    "str(df_encoded)\n"
   ]
  },
  {
   "cell_type": "markdown",
   "id": "b8072083",
   "metadata": {},
   "source": [
    "It's seen that after encoding, it resluted in some missing values to be dropped."
   ]
  },
  {
   "cell_type": "code",
   "execution_count": 35,
   "id": "93f8fef1",
   "metadata": {},
   "outputs": [
    {
     "data": {
      "text/html": [
       "0"
      ],
      "text/latex": [
       "0"
      ],
      "text/markdown": [
       "0"
      ],
      "text/plain": [
       "[1] 0"
      ]
     },
     "metadata": {},
     "output_type": "display_data"
    }
   ],
   "source": [
    "sum(is.na(df_encoded))\n",
    "df_encoded=na.omit(df_encoded)"
   ]
  },
  {
   "cell_type": "code",
   "execution_count": 37,
   "id": "6924d7c3",
   "metadata": {},
   "outputs": [],
   "source": [
    "# # Splitting the dataset into the Training set and Test set\n",
    "# install.packages('caTools')\n",
    "library(caTools)\n",
    "set.seed(123)\n",
    "\n",
    "split = sample.split(df_encoded$Case.status, SplitRatio = 0.8)\n",
    "train = subset(df_encoded, split == TRUE)\n",
    "test = subset(df_encoded, split == FALSE)\n",
    "\n",
    "#train_rows <- sample(seq_len(nrow(df_encoded)), size = floor(0.7 * nrow(df_encoded)))\n",
    "#train <- df_encoded[train_rows, ]\n",
    "#rest_df<- df_encoded[-train_rows, ]\n",
    "\n",
    "#test_rows <- sample(seq_len(nrow(rest_df)), size = floor(0.5 * nrow(rest_df)))\n",
    "#test <- rest_df[test_rows, ]\n",
    "#valid <- rest_df[-test_rows, ]\n"
   ]
  },
  {
   "cell_type": "code",
   "execution_count": 38,
   "id": "8aa72dc2",
   "metadata": {},
   "outputs": [
    {
     "data": {
      "text/html": [
       "<ol class=list-inline>\n",
       "\t<li>238183</li>\n",
       "\t<li>10</li>\n",
       "</ol>\n"
      ],
      "text/latex": [
       "\\begin{enumerate*}\n",
       "\\item 238183\n",
       "\\item 10\n",
       "\\end{enumerate*}\n"
      ],
      "text/markdown": [
       "1. 238183\n",
       "2. 10\n",
       "\n",
       "\n"
      ],
      "text/plain": [
       "[1] 238183     10"
      ]
     },
     "metadata": {},
     "output_type": "display_data"
    },
    {
     "data": {
      "text/html": [
       "<ol class=list-inline>\n",
       "\t<li>59546</li>\n",
       "\t<li>10</li>\n",
       "</ol>\n"
      ],
      "text/latex": [
       "\\begin{enumerate*}\n",
       "\\item 59546\n",
       "\\item 10\n",
       "\\end{enumerate*}\n"
      ],
      "text/markdown": [
       "1. 59546\n",
       "2. 10\n",
       "\n",
       "\n"
      ],
      "text/plain": [
       "[1] 59546    10"
      ]
     },
     "metadata": {},
     "output_type": "display_data"
    }
   ],
   "source": [
    "# train and test and validation dimensions\n",
    "dim(train)\n",
    "dim(test)\n"
   ]
  },
  {
   "cell_type": "markdown",
   "id": "3944dd4c",
   "metadata": {},
   "source": [
    "# 1. Logistic Regression\n"
   ]
  },
  {
   "cell_type": "markdown",
   "id": "7e6c9e5f",
   "metadata": {},
   "source": [
    "### Unbalanced data"
   ]
  },
  {
   "cell_type": "markdown",
   "id": "0ff9cbd6",
   "metadata": {},
   "source": [
    "- The precision value in the training phase was 0.5 which is fair, however in the testing phase, the precision value has raised up to 0.75 which indicates learning"
   ]
  },
  {
   "cell_type": "markdown",
   "id": "d352bfbc",
   "metadata": {},
   "source": [
    "Train metric"
   ]
  },
  {
   "cell_type": "code",
   "execution_count": 39,
   "id": "ce8b92b8",
   "metadata": {},
   "outputs": [
    {
     "data": {
      "text/plain": [
       "Confusion Matrix and Statistics\n",
       "\n",
       "          Reference\n",
       "Prediction      0      1\n",
       "         0 235863   2320\n",
       "         1      0      0\n",
       "                                          \n",
       "               Accuracy : 0.9903          \n",
       "                 95% CI : (0.9899, 0.9907)\n",
       "    No Information Rate : 0.9903          \n",
       "    P-Value [Acc > NIR] : 0.5055          \n",
       "                                          \n",
       "                  Kappa : 0               \n",
       "                                          \n",
       " Mcnemar's Test P-Value : <2e-16          \n",
       "                                          \n",
       "            Sensitivity : 0.00000         \n",
       "            Specificity : 1.00000         \n",
       "         Pos Pred Value :     NaN         \n",
       "         Neg Pred Value : 0.99026         \n",
       "             Prevalence : 0.00974         \n",
       "         Detection Rate : 0.00000         \n",
       "   Detection Prevalence : 0.00000         \n",
       "      Balanced Accuracy : 0.50000         \n",
       "                                          \n",
       "       'Positive' Class : 1               \n",
       "                                          "
      ]
     },
     "metadata": {},
     "output_type": "display_data"
    }
   ],
   "source": [
    "library(caret)\n",
    "# logistic regression\n",
    "\n",
    "unbal_glm_fit<- train %>% glm(Case.status ~ ., data=., family = \"binomial\")\n",
    "unbal_glm_pred<- ifelse(predict(unbal_glm_fit, newdata = train, type = \"response\") >0.5, 1, 0)\n",
    "\n",
    "confusionMatrix(as.factor(unbal_glm_pred), train$Case.status, positive = \"1\")"
   ]
  },
  {
   "cell_type": "markdown",
   "id": "301ed715",
   "metadata": {},
   "source": [
    "Test metric"
   ]
  },
  {
   "cell_type": "code",
   "execution_count": 40,
   "id": "6f8fc4d0",
   "metadata": {},
   "outputs": [
    {
     "data": {
      "text/plain": [
       "Confusion Matrix and Statistics\n",
       "\n",
       "          Reference\n",
       "Prediction     0     1\n",
       "         0 58966   580\n",
       "         1     0     0\n",
       "                                         \n",
       "               Accuracy : 0.9903         \n",
       "                 95% CI : (0.9894, 0.991)\n",
       "    No Information Rate : 0.9903         \n",
       "    P-Value [Acc > NIR] : 0.511          \n",
       "                                         \n",
       "                  Kappa : 0              \n",
       "                                         \n",
       " Mcnemar's Test P-Value : <2e-16         \n",
       "                                         \n",
       "            Sensitivity : 0.00000        \n",
       "            Specificity : 1.00000        \n",
       "         Pos Pred Value :     NaN        \n",
       "         Neg Pred Value : 0.99026        \n",
       "             Prevalence : 0.00974        \n",
       "         Detection Rate : 0.00000        \n",
       "   Detection Prevalence : 0.00000        \n",
       "      Balanced Accuracy : 0.50000        \n",
       "                                         \n",
       "       'Positive' Class : 1              \n",
       "                                         "
      ]
     },
     "metadata": {},
     "output_type": "display_data"
    }
   ],
   "source": [
    "unbal_glm_pred<- ifelse(predict(unbal_glm_fit, newdata = test, type = \"response\") >0.5, 1, 0)\n",
    "\n",
    "confusionMatrix(as.factor(unbal_glm_pred), test$Case.status, positive = \"1\")"
   ]
  },
  {
   "cell_type": "markdown",
   "id": "647e47d8",
   "metadata": {},
   "source": [
    "## Over-Sampling"
   ]
  },
  {
   "cell_type": "code",
   "execution_count": 41,
   "id": "79234789",
   "metadata": {},
   "outputs": [
    {
     "name": "stderr",
     "output_type": "stream",
     "text": [
      "Loading required package: foreach\n",
      "Loading required package: iterators\n",
      "Loading required package: parallel\n",
      "Loaded ROSE 0.0-4\n",
      "\n"
     ]
    },
    {
     "data": {
      "text/plain": [
       "\n",
       "     0      1 \n",
       "235863 235772 "
      ]
     },
     "metadata": {},
     "output_type": "display_data"
    }
   ],
   "source": [
    "# Balancing Data\n",
    "library(doParallel)\n",
    "#install.packages(\"ROSE\")\n",
    "library(ROSE) # ovun.sample\n",
    "over<- ovun.sample(Case.status ~ ., data=train, method = \"over\", p=0.5)$data\n",
    "table(over$Case.status)\n",
    "\n",
    "\n",
    "\n"
   ]
  },
  {
   "cell_type": "code",
   "execution_count": null,
   "id": "f3621799",
   "metadata": {},
   "outputs": [],
   "source": []
  },
  {
   "cell_type": "code",
   "execution_count": 42,
   "id": "5c2c92af",
   "metadata": {},
   "outputs": [
    {
     "data": {
      "text/plain": [
       "Confusion Matrix and Statistics\n",
       "\n",
       "          Reference\n",
       "Prediction      0      1\n",
       "         0 200103  22181\n",
       "         1  35760 213591\n",
       "                                          \n",
       "               Accuracy : 0.8771          \n",
       "                 95% CI : (0.8762, 0.8781)\n",
       "    No Information Rate : 0.5001          \n",
       "    P-Value [Acc > NIR] : < 2.2e-16       \n",
       "                                          \n",
       "                  Kappa : 0.7543          \n",
       "                                          \n",
       " Mcnemar's Test P-Value : < 2.2e-16       \n",
       "                                          \n",
       "            Sensitivity : 0.9059          \n",
       "            Specificity : 0.8484          \n",
       "         Pos Pred Value : 0.8566          \n",
       "         Neg Pred Value : 0.9002          \n",
       "             Prevalence : 0.4999          \n",
       "         Detection Rate : 0.4529          \n",
       "   Detection Prevalence : 0.5287          \n",
       "      Balanced Accuracy : 0.8772          \n",
       "                                          \n",
       "       'Positive' Class : 1               \n",
       "                                          "
      ]
     },
     "metadata": {},
     "output_type": "display_data"
    }
   ],
   "source": [
    "over_glm_fit<- over %>% glm(Case.status ~ ., data=., family = \"binomial\")\n",
    "over_glm_pred<- ifelse(predict(over_glm_fit, newdata = over, type = \"response\") >0.5, 1, 0)\n",
    "\n",
    "confusionMatrix(as.factor(over_glm_pred), over$Case.status, positive = \"1\")"
   ]
  },
  {
   "cell_type": "code",
   "execution_count": 43,
   "id": "5a567dfb",
   "metadata": {},
   "outputs": [
    {
     "data": {
      "text/plain": [
       "Confusion Matrix and Statistics\n",
       "\n",
       "          Reference\n",
       "Prediction     0     1\n",
       "         0 50094    56\n",
       "         1  8872   524\n",
       "                                          \n",
       "               Accuracy : 0.8501          \n",
       "                 95% CI : (0.8472, 0.8529)\n",
       "    No Information Rate : 0.9903          \n",
       "    P-Value [Acc > NIR] : 1               \n",
       "                                          \n",
       "                  Kappa : 0.0883          \n",
       "                                          \n",
       " Mcnemar's Test P-Value : <2e-16          \n",
       "                                          \n",
       "            Sensitivity : 0.90345         \n",
       "            Specificity : 0.84954         \n",
       "         Pos Pred Value : 0.05577         \n",
       "         Neg Pred Value : 0.99888         \n",
       "             Prevalence : 0.00974         \n",
       "         Detection Rate : 0.00880         \n",
       "   Detection Prevalence : 0.15779         \n",
       "      Balanced Accuracy : 0.87649         \n",
       "                                          \n",
       "       'Positive' Class : 1               \n",
       "                                          "
      ]
     },
     "metadata": {},
     "output_type": "display_data"
    }
   ],
   "source": [
    "over_glm_pred<- ifelse(predict(over_glm_fit, newdata = test, type = \"response\") >0.5, 1, 0)\n",
    "\n",
    "confusionMatrix(as.factor(over_glm_pred), test$Case.status, positive = \"1\")"
   ]
  },
  {
   "cell_type": "markdown",
   "id": "74ff998c",
   "metadata": {},
   "source": [
    "## Over-Sampling with CV"
   ]
  },
  {
   "cell_type": "code",
   "execution_count": 44,
   "id": "13e3a474",
   "metadata": {},
   "outputs": [
    {
     "name": "stdout",
     "output_type": "stream",
     "text": [
      "+ Fold01: parameter=none \n",
      "- Fold01: parameter=none \n",
      "+ Fold02: parameter=none \n",
      "- Fold02: parameter=none \n",
      "+ Fold03: parameter=none \n",
      "- Fold03: parameter=none \n",
      "+ Fold04: parameter=none \n",
      "- Fold04: parameter=none \n",
      "+ Fold05: parameter=none \n",
      "- Fold05: parameter=none \n",
      "+ Fold06: parameter=none \n",
      "- Fold06: parameter=none \n",
      "+ Fold07: parameter=none \n",
      "- Fold07: parameter=none \n",
      "+ Fold08: parameter=none \n",
      "- Fold08: parameter=none \n",
      "+ Fold09: parameter=none \n",
      "- Fold09: parameter=none \n",
      "+ Fold10: parameter=none \n",
      "- Fold10: parameter=none \n",
      "Aggregating results\n",
      "Fitting final model on full training set\n",
      "Generalized Linear Model \n",
      "\n",
      "471635 samples\n",
      "     9 predictor\n",
      "     2 classes: '0', '1' \n",
      "\n",
      "No pre-processing\n",
      "Resampling: Cross-Validated (10 fold) \n",
      "Summary of sample sizes: 424472, 424472, 424471, 424471, 424472, 424472, ... \n",
      "Resampling results:\n",
      "\n",
      "  Accuracy   Kappa    \n",
      "  0.8966256  0.7932519\n",
      "\n"
     ]
    }
   ],
   "source": [
    "set.seed(222)\n",
    "control<- trainControl(method = \"cv\", number= 10,verboseIter=TRUE)\n",
    "\n",
    "glm_cross<- train(Case.status ~ ., method= \"glm\", data= over, trControl=control)\n",
    "print(glm_cross)\n"
   ]
  },
  {
   "cell_type": "code",
   "execution_count": 45,
   "id": "a32c1410",
   "metadata": {},
   "outputs": [
    {
     "data": {
      "text/plain": [
       "Confusion Matrix and Statistics\n",
       "\n",
       "          Reference\n",
       "Prediction     0     1\n",
       "         0 52385    56\n",
       "         1  6581   524\n",
       "                                         \n",
       "               Accuracy : 0.8885         \n",
       "                 95% CI : (0.886, 0.8911)\n",
       "    No Information Rate : 0.9903         \n",
       "    P-Value [Acc > NIR] : 1              \n",
       "                                         \n",
       "                  Kappa : 0.1205         \n",
       "                                         \n",
       " Mcnemar's Test P-Value : <2e-16         \n",
       "                                         \n",
       "            Sensitivity : 0.90345        \n",
       "            Specificity : 0.88839        \n",
       "         Pos Pred Value : 0.07375        \n",
       "         Neg Pred Value : 0.99893        \n",
       "             Prevalence : 0.00974        \n",
       "         Detection Rate : 0.00880        \n",
       "   Detection Prevalence : 0.11932        \n",
       "      Balanced Accuracy : 0.89592        \n",
       "                                         \n",
       "       'Positive' Class : 1              \n",
       "                                         "
      ]
     },
     "metadata": {},
     "output_type": "display_data"
    }
   ],
   "source": [
    "glm_cross_pred<- predict(glm_cross, test)\n",
    "confusionMatrix(glm_cross_pred, test$Case.status, positive = \"1\")"
   ]
  },
  {
   "cell_type": "markdown",
   "id": "31b0ff4a",
   "metadata": {},
   "source": [
    "## Under-Sampling"
   ]
  },
  {
   "cell_type": "code",
   "execution_count": 46,
   "id": "ab7e31d8",
   "metadata": {},
   "outputs": [
    {
     "data": {
      "text/plain": [
       "\n",
       "   0    1 \n",
       "2368 2320 "
      ]
     },
     "metadata": {},
     "output_type": "display_data"
    }
   ],
   "source": [
    "under<- ovun.sample(Case.status~ ., data= train, method = \"under\",p=0.5)$data\n",
    "table(under$Case.status)"
   ]
  },
  {
   "cell_type": "code",
   "execution_count": 47,
   "id": "66fa4185",
   "metadata": {},
   "outputs": [
    {
     "data": {
      "text/plain": [
       "Confusion Matrix and Statistics\n",
       "\n",
       "          Reference\n",
       "Prediction    0    1\n",
       "         0 2110  249\n",
       "         1  258 2071\n",
       "                                          \n",
       "               Accuracy : 0.8919          \n",
       "                 95% CI : (0.8826, 0.9006)\n",
       "    No Information Rate : 0.5051          \n",
       "    P-Value [Acc > NIR] : <2e-16          \n",
       "                                          \n",
       "                  Kappa : 0.7837          \n",
       "                                          \n",
       " Mcnemar's Test P-Value : 0.7224          \n",
       "                                          \n",
       "            Sensitivity : 0.8927          \n",
       "            Specificity : 0.8910          \n",
       "         Pos Pred Value : 0.8892          \n",
       "         Neg Pred Value : 0.8944          \n",
       "             Prevalence : 0.4949          \n",
       "         Detection Rate : 0.4418          \n",
       "   Detection Prevalence : 0.4968          \n",
       "      Balanced Accuracy : 0.8919          \n",
       "                                          \n",
       "       'Positive' Class : 1               \n",
       "                                          "
      ]
     },
     "metadata": {},
     "output_type": "display_data"
    }
   ],
   "source": [
    "under_glm_fit<- under %>% glm(Case.status ~ ., data=., family = \"binomial\")\n",
    "under_glm_pred<- ifelse(predict(under_glm_fit, newdata = under, type = \"response\") >0.5, 1, 0)\n",
    "\n",
    "confusionMatrix(as.factor(under_glm_pred), under$Case.status, positive = \"1\")"
   ]
  },
  {
   "cell_type": "code",
   "execution_count": 48,
   "id": "e1e73bd4",
   "metadata": {},
   "outputs": [
    {
     "data": {
      "text/plain": [
       "Confusion Matrix and Statistics\n",
       "\n",
       "          Reference\n",
       "Prediction     0     1\n",
       "         0 53006    61\n",
       "         1  5960   519\n",
       "                                          \n",
       "               Accuracy : 0.8989          \n",
       "                 95% CI : (0.8964, 0.9013)\n",
       "    No Information Rate : 0.9903          \n",
       "    P-Value [Acc > NIR] : 1               \n",
       "                                          \n",
       "                  Kappa : 0.1315          \n",
       "                                          \n",
       " Mcnemar's Test P-Value : <2e-16          \n",
       "                                          \n",
       "            Sensitivity : 0.894828        \n",
       "            Specificity : 0.898925        \n",
       "         Pos Pred Value : 0.080105        \n",
       "         Neg Pred Value : 0.998851        \n",
       "             Prevalence : 0.009740        \n",
       "         Detection Rate : 0.008716        \n",
       "   Detection Prevalence : 0.108807        \n",
       "      Balanced Accuracy : 0.896876        \n",
       "                                          \n",
       "       'Positive' Class : 1               \n",
       "                                          "
      ]
     },
     "metadata": {},
     "output_type": "display_data"
    }
   ],
   "source": [
    "under_glm_pred<- ifelse(predict(under_glm_fit, newdata = test, type = \"response\") >0.5, 1, 0)\n",
    "\n",
    "confusionMatrix(as.factor(under_glm_pred), test$Case.status, positive = \"1\")"
   ]
  },
  {
   "cell_type": "markdown",
   "id": "1a84f0d3",
   "metadata": {},
   "source": [
    "## Under-Sampling with CV"
   ]
  },
  {
   "cell_type": "code",
   "execution_count": 49,
   "id": "47a175e1",
   "metadata": {},
   "outputs": [
    {
     "name": "stdout",
     "output_type": "stream",
     "text": [
      "Generalized Linear Model \n",
      "\n",
      "4688 samples\n",
      "   9 predictor\n",
      "   2 classes: '0', '1' \n",
      "\n",
      "No pre-processing\n",
      "Resampling: Cross-Validated (10 fold) \n",
      "Summary of sample sizes: 4220, 4219, 4219, 4219, 4220, 4219, ... \n",
      "Resampling results:\n",
      "\n",
      "  Accuracy   Kappa    \n",
      "  0.8912124  0.7824399\n",
      "\n"
     ]
    }
   ],
   "source": [
    "set.seed(225)\n",
    "control<- trainControl(method = \"cv\", number= 10)\n",
    "\n",
    "glm_cross<- train(Case.status ~ ., method= \"glm\", data= under, trControl=control)\n",
    "print(glm_cross)\n"
   ]
  },
  {
   "cell_type": "code",
   "execution_count": 50,
   "id": "2be90066",
   "metadata": {},
   "outputs": [
    {
     "data": {
      "text/plain": [
       "Confusion Matrix and Statistics\n",
       "\n",
       "          Reference\n",
       "Prediction     0     1\n",
       "         0 53006    61\n",
       "         1  5960   519\n",
       "                                          \n",
       "               Accuracy : 0.8989          \n",
       "                 95% CI : (0.8964, 0.9013)\n",
       "    No Information Rate : 0.9903          \n",
       "    P-Value [Acc > NIR] : 1               \n",
       "                                          \n",
       "                  Kappa : 0.1315          \n",
       "                                          \n",
       " Mcnemar's Test P-Value : <2e-16          \n",
       "                                          \n",
       "            Sensitivity : 0.894828        \n",
       "            Specificity : 0.898925        \n",
       "         Pos Pred Value : 0.080105        \n",
       "         Neg Pred Value : 0.998851        \n",
       "             Prevalence : 0.009740        \n",
       "         Detection Rate : 0.008716        \n",
       "   Detection Prevalence : 0.108807        \n",
       "      Balanced Accuracy : 0.896876        \n",
       "                                          \n",
       "       'Positive' Class : 1               \n",
       "                                          "
      ]
     },
     "metadata": {},
     "output_type": "display_data"
    }
   ],
   "source": [
    "glm_cross_pred<- predict(glm_cross, test)\n",
    "confusionMatrix(glm_cross_pred, test$Case.status, positive = \"1\")"
   ]
  },
  {
   "cell_type": "markdown",
   "id": "b6317ec1",
   "metadata": {},
   "source": [
    "# 2. Decision Tree"
   ]
  },
  {
   "cell_type": "code",
   "execution_count": 51,
   "id": "0aaed8ad",
   "metadata": {
    "scrolled": false
   },
   "outputs": [
    {
     "name": "stderr",
     "output_type": "stream",
     "text": [
      "Loading required package: grid\n",
      "Loading required package: mvtnorm\n",
      "Loading required package: modeltools\n",
      "Loading required package: stats4\n",
      "Loading required package: strucchange\n",
      "Loading required package: zoo\n",
      "\n",
      "Attaching package: ‘zoo’\n",
      "\n",
      "The following objects are masked from ‘package:base’:\n",
      "\n",
      "    as.Date, as.Date.numeric\n",
      "\n",
      "Loading required package: sandwich\n"
     ]
    },
    {
     "data": {
      "image/png": "[encoded data removed]",
      "text/plain": [
       "plot without title"
      ]
     },
     "metadata": {},
     "output_type": "display_data"
    }
   ],
   "source": [
    "#install.packages(\"party\")\n",
    "library(party) # Load the party package\n",
    "tree <- ctree(Case.status ~., data=train)\n",
    "\n",
    "\n",
    "#plot tree\n",
    "plot(tree, type=\"simple\")\n"
   ]
  },
  {
   "cell_type": "code",
   "execution_count": 52,
   "id": "9573dfae",
   "metadata": {},
   "outputs": [
    {
     "data": {
      "text/plain": [
       "         \n",
       "trainPred      0      1\n",
       "        0 235863   2320\n",
       "        1      0      0"
      ]
     },
     "metadata": {},
     "output_type": "display_data"
    },
    {
     "data": {
      "text/plain": [
       "Confusion Matrix and Statistics\n",
       "\n",
       "          Reference\n",
       "Prediction      0      1\n",
       "         0 235863   2320\n",
       "         1      0      0\n",
       "                                          \n",
       "               Accuracy : 0.9903          \n",
       "                 95% CI : (0.9899, 0.9907)\n",
       "    No Information Rate : 0.9903          \n",
       "    P-Value [Acc > NIR] : 0.5055          \n",
       "                                          \n",
       "                  Kappa : 0               \n",
       "                                          \n",
       " Mcnemar's Test P-Value : <2e-16          \n",
       "                                          \n",
       "            Sensitivity : 0.00000         \n",
       "            Specificity : 1.00000         \n",
       "         Pos Pred Value :     NaN         \n",
       "         Neg Pred Value : 0.99026         \n",
       "             Prevalence : 0.00974         \n",
       "         Detection Rate : 0.00000         \n",
       "   Detection Prevalence : 0.00000         \n",
       "      Balanced Accuracy : 0.50000         \n",
       "                                          \n",
       "       'Positive' Class : 1               \n",
       "                                          "
      ]
     },
     "metadata": {},
     "output_type": "display_data"
    }
   ],
   "source": [
    "# Tree evaluation on training data\n",
    "# predict on test data\n",
    "trainPred <- predict(tree, newdata = train)\n",
    "table(trainPred, train$Case.status)\n",
    "confusionMatrix(as.factor(trainPred), train$Case.status, positive = \"1\")"
   ]
  },
  {
   "cell_type": "code",
   "execution_count": 53,
   "id": "6fa7a8a1",
   "metadata": {},
   "outputs": [
    {
     "data": {
      "text/plain": [
       "        \n",
       "testPred     0     1\n",
       "       0 58966   580\n",
       "       1     0     0"
      ]
     },
     "metadata": {},
     "output_type": "display_data"
    },
    {
     "data": {
      "text/plain": [
       "        \n",
       "testPred     0     1\n",
       "       0 58966   580\n",
       "       1     0     0"
      ]
     },
     "metadata": {},
     "output_type": "display_data"
    },
    {
     "data": {
      "text/plain": [
       "Confusion Matrix and Statistics\n",
       "\n",
       "          Reference\n",
       "Prediction     0     1\n",
       "         0 58966   580\n",
       "         1     0     0\n",
       "                                         \n",
       "               Accuracy : 0.9903         \n",
       "                 95% CI : (0.9894, 0.991)\n",
       "    No Information Rate : 0.9903         \n",
       "    P-Value [Acc > NIR] : 0.511          \n",
       "                                         \n",
       "                  Kappa : 0              \n",
       "                                         \n",
       " Mcnemar's Test P-Value : <2e-16         \n",
       "                                         \n",
       "            Sensitivity : 0.00000        \n",
       "            Specificity : 1.00000        \n",
       "         Pos Pred Value :     NaN        \n",
       "         Neg Pred Value : 0.99026        \n",
       "             Prevalence : 0.00974        \n",
       "         Detection Rate : 0.00000        \n",
       "   Detection Prevalence : 0.00000        \n",
       "      Balanced Accuracy : 0.50000        \n",
       "                                         \n",
       "       'Positive' Class : 1              \n",
       "                                         "
      ]
     },
     "metadata": {},
     "output_type": "display_data"
    }
   ],
   "source": [
    "# Tree evaluation on test data\n",
    "testPred <- predict(tree, newdata = test)\n",
    "table(testPred, test$Case.status)\n",
    "# Tree evaluation on training data\n",
    "# predict on test data\n",
    "trainPred <- predict(tree, newdata = test)\n",
    "table(testPred, test$Case.status)\n",
    "confusionMatrix(as.factor(testPred), test$Case.status, positive = \"1\")"
   ]
  },
  {
   "cell_type": "markdown",
   "id": "49dd03fb",
   "metadata": {},
   "source": [
    "## Over-Sampling"
   ]
  },
  {
   "cell_type": "code",
   "execution_count": 54,
   "id": "2711253a",
   "metadata": {},
   "outputs": [
    {
     "data": {
      "text/plain": [
       "Confusion Matrix and Statistics\n",
       "\n",
       "          Reference\n",
       "Prediction      0      1\n",
       "         0 206073  18654\n",
       "         1  29790 217118\n",
       "                                          \n",
       "               Accuracy : 0.8973          \n",
       "                 95% CI : (0.8964, 0.8982)\n",
       "    No Information Rate : 0.5001          \n",
       "    P-Value [Acc > NIR] : < 2.2e-16       \n",
       "                                          \n",
       "                  Kappa : 0.7946          \n",
       "                                          \n",
       " Mcnemar's Test P-Value : < 2.2e-16       \n",
       "                                          \n",
       "            Sensitivity : 0.9209          \n",
       "            Specificity : 0.8737          \n",
       "         Pos Pred Value : 0.8793          \n",
       "         Neg Pred Value : 0.9170          \n",
       "             Prevalence : 0.4999          \n",
       "         Detection Rate : 0.4604          \n",
       "   Detection Prevalence : 0.5235          \n",
       "      Balanced Accuracy : 0.8973          \n",
       "                                          \n",
       "       'Positive' Class : 1               \n",
       "                                          "
      ]
     },
     "metadata": {},
     "output_type": "display_data"
    }
   ],
   "source": [
    "tree <- ctree(Case.status ~., data=over)\n",
    "trainPred <- predict(tree, newdata = over)\n",
    "confusionMatrix(as.factor(trainPred), over$Case.status, positive = \"1\")"
   ]
  },
  {
   "cell_type": "markdown",
   "id": "309a0ac3",
   "metadata": {},
   "source": [
    "## Over-Sampling with CV"
   ]
  },
  {
   "cell_type": "code",
   "execution_count": 55,
   "id": "ef89617e",
   "metadata": {},
   "outputs": [
    {
     "name": "stdout",
     "output_type": "stream",
     "text": [
      "\n",
      "\t Conditional inference tree with 65 terminal nodes\n",
      "\n",
      "Response:  Case.status \n",
      "Inputs:  Alberta.Health.Services.Zone.Calgary.Zone, Alberta.Health.Services.Zone.Central.Zone, Alberta.Health.Services.Zone.Edmonton.Zone, Alberta.Health.Services.Zone.North.Zone, Alberta.Health.Services.Zone.South.Zone, Alberta.Health.Services.Zone.Unknown, Gender, Age.group, Case.type \n",
      "Number of observations:  471635 \n",
      "\n",
      "1) Age.group == {6, 5, 7, 4, 8, 3, 2, 1}; criterion = 1, statistic = 321383.518\n",
      "  2) Age.group == {6, 5, 7, 4, 3, 2, 1}; criterion = 1, statistic = 35495.215\n",
      "    3) Age.group == {7}; criterion = 1, statistic = 11042.485\n",
      "      4) Gender == {0}; criterion = 1, statistic = 692.243\n",
      "        5) Alberta.Health.Services.Zone.Calgary.Zone <= 0; criterion = 1, statistic = 238.781\n",
      "          6) Alberta.Health.Services.Zone.Edmonton.Zone <= 0; criterion = 1, statistic = 123.946\n",
      "            7) Alberta.Health.Services.Zone.South.Zone <= 0; criterion = 1, statistic = 32.908\n",
      "              8) Alberta.Health.Services.Zone.Central.Zone <= 0; criterion = 0.984, statistic = 9.762\n",
      "                9)*  weights = 2526 \n",
      "              8) Alberta.Health.Services.Zone.Central.Zone > 0\n",
      "                10)*  weights = 2213 \n",
      "            7) Alberta.Health.Services.Zone.South.Zone > 0\n",
      "              11) Case.type == {0}; criterion = 0.977, statistic = 9.063\n",
      "                12)*  weights = 36 \n",
      "              11) Case.type == {1}\n",
      "                13)*  weights = 1439 \n",
      "          6) Alberta.Health.Services.Zone.Edmonton.Zone > 0\n",
      "            14)*  weights = 6377 \n",
      "        5) Alberta.Health.Services.Zone.Calgary.Zone > 0\n",
      "          15)*  weights = 7569 \n",
      "      4) Gender == {1}\n",
      "        16) Alberta.Health.Services.Zone.Calgary.Zone <= 0; criterion = 1, statistic = 363.287\n",
      "          17) Alberta.Health.Services.Zone.South.Zone <= 0; criterion = 1, statistic = 91.938\n",
      "            18) Alberta.Health.Services.Zone.Central.Zone <= 0; criterion = 1, statistic = 43.054\n",
      "              19)*  weights = 9993 \n",
      "            18) Alberta.Health.Services.Zone.Central.Zone > 0\n",
      "              20)*  weights = 2372 \n",
      "          17) Alberta.Health.Services.Zone.South.Zone > 0\n",
      "            21) Case.type == {0}; criterion = 0.999, statistic = 14.778\n",
      "              22)*  weights = 32 \n",
      "            21) Case.type == {1}\n",
      "              23)*  weights = 1629 \n",
      "        16) Alberta.Health.Services.Zone.Calgary.Zone > 0\n",
      "          24)*  weights = 8382 \n",
      "    3) Age.group == {6, 5, 4, 3, 2, 1}\n",
      "      25) Age.group == {4, 3, 2, 1}; criterion = 1, statistic = 1841.231\n",
      "        26) Alberta.Health.Services.Zone.Central.Zone <= 0; criterion = 1, statistic = 1279.552\n",
      "          27)*  weights = 50478 \n",
      "        26) Alberta.Health.Services.Zone.Central.Zone > 0\n",
      "          28) Age.group == {3, 2, 1}; criterion = 1, statistic = 92.98\n",
      "            29)*  weights = 2344 \n",
      "          28) Age.group == {4}\n",
      "            30)*  weights = 4422 \n",
      "      25) Age.group == {6, 5}\n",
      "        31) Alberta.Health.Services.Zone.Calgary.Zone <= 0; criterion = 1, statistic = 836.799\n",
      "          32) Age.group == {6}; criterion = 1, statistic = 235.46\n",
      "            33) Gender == {0}; criterion = 1, statistic = 155.225\n",
      "              34) Alberta.Health.Services.Zone.Central.Zone <= 0; criterion = 1, statistic = 199.508\n",
      "                35) Alberta.Health.Services.Zone.Edmonton.Zone <= 0; criterion = 1, statistic = 34.139\n",
      "                  36)*  weights = 4683 \n",
      "                35) Alberta.Health.Services.Zone.Edmonton.Zone > 0\n",
      "                  37)*  weights = 8393 \n",
      "              34) Alberta.Health.Services.Zone.Central.Zone > 0\n",
      "                38)*  weights = 2073 \n",
      "            33) Gender == {1}\n",
      "              39) Alberta.Health.Services.Zone.South.Zone <= 0; criterion = 1, statistic = 63.429\n",
      "                40) Alberta.Health.Services.Zone.North.Zone <= 0; criterion = 1, statistic = 22.386\n",
      "                  41)*  weights = 9947 \n",
      "                40) Alberta.Health.Services.Zone.North.Zone > 0\n",
      "                  42)*  weights = 3090 \n",
      "              39) Alberta.Health.Services.Zone.South.Zone > 0\n",
      "                43)*  weights = 1307 \n",
      "          32) Age.group == {5}\n",
      "            44) Alberta.Health.Services.Zone.Central.Zone <= 0; criterion = 1, statistic = 492.043\n",
      "              45) Alberta.Health.Services.Zone.Edmonton.Zone <= 0; criterion = 1, statistic = 144.476\n",
      "                46) Gender == {0}; criterion = 1, statistic = 59.455\n",
      "                  47) Alberta.Health.Services.Zone.South.Zone <= 0; criterion = 1, statistic = 152.739\n",
      "                    48)*  weights = 2555 \n",
      "                  47) Alberta.Health.Services.Zone.South.Zone > 0\n",
      "                    49)*  weights = 1435 \n",
      "                46) Gender == {1}\n",
      "                  50) Alberta.Health.Services.Zone.North.Zone <= 0; criterion = 1, statistic = 115.357\n",
      "                    51)*  weights = 1382 \n",
      "                  50) Alberta.Health.Services.Zone.North.Zone > 0\n",
      "                    52)*  weights = 2885 \n",
      "              45) Alberta.Health.Services.Zone.Edmonton.Zone > 0\n",
      "                53) Gender == {0}; criterion = 1, statistic = 199.099\n",
      "                  54)*  weights = 7438 \n",
      "                53) Gender == {1}\n",
      "                  55)*  weights = 7342 \n",
      "            44) Alberta.Health.Services.Zone.Central.Zone > 0\n",
      "              56) Gender == {1}; criterion = 1, statistic = 114.834\n",
      "                57)*  weights = 2422 \n",
      "              56) Gender == {0}\n",
      "                58)*  weights = 2185 \n",
      "        31) Alberta.Health.Services.Zone.Calgary.Zone > 0\n",
      "          59) Case.type == {1}; criterion = 1, statistic = 2255.322\n",
      "            60) Gender == {1}; criterion = 1, statistic = 25.737\n",
      "              61) Age.group == {6}; criterion = 1, statistic = 185.368\n",
      "                62)*  weights = 9250 \n",
      "              61) Age.group == {5}\n",
      "                63)*  weights = 8477 \n",
      "            60) Gender == {0}\n",
      "              64) Age.group == {6}; criterion = 1, statistic = 112.942\n",
      "                65)*  weights = 8786 \n",
      "              64) Age.group == {5}\n",
      "                66)*  weights = 8297 \n",
      "          59) Case.type == {0}\n",
      "            67) Age.group == {6}; criterion = 1, statistic = 84.129\n",
      "              68)*  weights = 140 \n",
      "            67) Age.group == {5}\n",
      "              69) Gender == {0}; criterion = 1, statistic = 74.446\n",
      "                70)*  weights = 68 \n",
      "              69) Gender == {1}\n",
      "                71)*  weights = 165 \n",
      "  2) Age.group == {8}\n",
      "    72) Alberta.Health.Services.Zone.Calgary.Zone <= 0; criterion = 1, statistic = 1227.562\n",
      "      73) Alberta.Health.Services.Zone.Edmonton.Zone <= 0; criterion = 1, statistic = 482.487\n",
      "        74) Alberta.Health.Services.Zone.South.Zone <= 0; criterion = 1, statistic = 84.038\n",
      "          75) Gender == {0}; criterion = 1, statistic = 48.777\n",
      "            76) Alberta.Health.Services.Zone.North.Zone <= 0; criterion = 1, statistic = 197.334\n",
      "              77)*  weights = 2057 \n",
      "            76) Alberta.Health.Services.Zone.North.Zone > 0\n",
      "              78)*  weights = 3365 \n",
      "          75) Gender == {1}\n",
      "            79) Alberta.Health.Services.Zone.Central.Zone <= 0; criterion = 1, statistic = 74.571\n",
      "              80)*  weights = 3044 \n",
      "            79) Alberta.Health.Services.Zone.Central.Zone > 0\n",
      "              81)*  weights = 3023 \n",
      "        74) Alberta.Health.Services.Zone.South.Zone > 0\n",
      "          82) Case.type == {0}; criterion = 1, statistic = 30.49\n",
      "            83)*  weights = 46 \n",
      "          82) Case.type == {1}\n",
      "            84) Gender == {1}; criterion = 1, statistic = 31.645\n",
      "              85)*  weights = 1182 \n",
      "            84) Gender == {0}\n",
      "              86)*  weights = 1461 \n",
      "      73) Alberta.Health.Services.Zone.Edmonton.Zone > 0\n",
      "        87) Gender == {0}; criterion = 1, statistic = 171.22\n",
      "          88)*  weights = 5603 \n",
      "        87) Gender == {1}\n",
      "          89)*  weights = 6667 \n",
      "    72) Alberta.Health.Services.Zone.Calgary.Zone > 0\n",
      "      90) Gender == {0}; criterion = 1, statistic = 403.852\n",
      "        91)*  weights = 5527 \n",
      "      90) Gender == {1}\n",
      "        92)*  weights = 7173 \n",
      "1) Age.group == {9, 10, 80+ years}\n",
      "  93) Age.group == {9}; criterion = 1, statistic = 31112.065\n",
      "    94) Alberta.Health.Services.Zone.Calgary.Zone <= 0; criterion = 1, statistic = 525.697\n",
      "      95) Alberta.Health.Services.Zone.South.Zone <= 0; criterion = 1, statistic = 252.48\n",
      "        96) Gender == {0}; criterion = 1, statistic = 197.794\n",
      "          97) Alberta.Health.Services.Zone.Central.Zone <= 0; criterion = 1, statistic = 46.376\n",
      "            98)*  weights = 9653 \n",
      "          97) Alberta.Health.Services.Zone.Central.Zone > 0\n",
      "            99)*  weights = 1986 \n",
      "        96) Gender == {1}\n",
      "          100) Alberta.Health.Services.Zone.Central.Zone <= 0; criterion = 1, statistic = 90.24\n",
      "            101)*  weights = 11447 \n",
      "          100) Alberta.Health.Services.Zone.Central.Zone > 0\n",
      "            102)*  weights = 3949 \n",
      "      95) Alberta.Health.Services.Zone.South.Zone > 0\n",
      "        103)*  weights = 5015 \n",
      "    94) Alberta.Health.Services.Zone.Calgary.Zone > 0\n",
      "      104) Gender == {1}; criterion = 1, statistic = 71.527\n",
      "        105)*  weights = 7417 \n",
      "      104) Gender == {0}\n",
      "        106)*  weights = 5717 \n",
      "  93) Age.group == {10, 80+ years}\n",
      "    107) Age.group == {10}; criterion = 1, statistic = 3905.096\n",
      "      108) Gender == {0}; criterion = 1, statistic = 410.809\n",
      "        109) Alberta.Health.Services.Zone.Calgary.Zone <= 0; criterion = 1, statistic = 127.338\n",
      "          110) Alberta.Health.Services.Zone.Central.Zone <= 0; criterion = 0.999, statistic = 95.431\n",
      "            111)*  weights = 14268 \n",
      "          110) Alberta.Health.Services.Zone.Central.Zone > 0\n",
      "            112)*  weights = 2534 \n",
      "        109) Alberta.Health.Services.Zone.Calgary.Zone > 0\n",
      "          113)*  weights = 6371 \n",
      "      108) Gender == {1}\n",
      "        114) Alberta.Health.Services.Zone.Calgary.Zone <= 0; criterion = 1, statistic = 238.068\n",
      "          115) Alberta.Health.Services.Zone.Edmonton.Zone <= 0; criterion = 1, statistic = 213.164\n",
      "            116)*  weights = 11279 \n",
      "          115) Alberta.Health.Services.Zone.Edmonton.Zone > 0\n",
      "            117)*  weights = 14981 \n",
      "        114) Alberta.Health.Services.Zone.Calgary.Zone > 0\n",
      "          118)*  weights = 8930 \n",
      "    107) Age.group == {80+ years}\n",
      "      119) Gender == {0}; criterion = 1, statistic = 424.196\n",
      "        120) Alberta.Health.Services.Zone.South.Zone <= 0; criterion = 1, statistic = 128.12\n",
      "          121) Alberta.Health.Services.Zone.Central.Zone <= 0; criterion = 1, statistic = 116.512\n",
      "            122) Alberta.Health.Services.Zone.North.Zone <= 0; criterion = 0.999, statistic = 14.572\n",
      "              123)*  weights = 53832 \n",
      "            122) Alberta.Health.Services.Zone.North.Zone > 0\n",
      "              124)*  weights = 5408 \n",
      "          121) Alberta.Health.Services.Zone.Central.Zone > 0\n",
      "            125)*  weights = 4789 \n",
      "        120) Alberta.Health.Services.Zone.South.Zone > 0\n",
      "          126)*  weights = 2990 \n",
      "      119) Gender == {1}\n",
      "        127) Alberta.Health.Services.Zone.Edmonton.Zone <= 0; criterion = 1, statistic = 42.433\n",
      "          128)*  weights = 39189 \n",
      "        127) Alberta.Health.Services.Zone.Edmonton.Zone > 0\n",
      "          129)*  weights = 30600 \n"
     ]
    }
   ],
   "source": [
    "control<- trainControl(method = \"cv\", number= 10)\n",
    "set.seed(8, sample.kind = \"Rounding\")\n",
    "tree_corss_over<- over %>% ctree(Case.status ~ ., data=.)\n",
    "print(tree_corss_over)"
   ]
  },
  {
   "cell_type": "code",
   "execution_count": 56,
   "id": "0799733d",
   "metadata": {},
   "outputs": [
    {
     "data": {
      "text/plain": [
       "Confusion Matrix and Statistics\n",
       "\n",
       "          Reference\n",
       "Prediction     0     1\n",
       "         0 51580    44\n",
       "         1  7386   536\n",
       "                                          \n",
       "               Accuracy : 0.8752          \n",
       "                 95% CI : (0.8725, 0.8779)\n",
       "    No Information Rate : 0.9903          \n",
       "    P-Value [Acc > NIR] : 1               \n",
       "                                          \n",
       "                  Kappa : 0.1099          \n",
       "                                          \n",
       " Mcnemar's Test P-Value : <2e-16          \n",
       "                                          \n",
       "            Sensitivity : 0.924138        \n",
       "            Specificity : 0.874741        \n",
       "         Pos Pred Value : 0.067660        \n",
       "         Neg Pred Value : 0.999148        \n",
       "             Prevalence : 0.009740        \n",
       "         Detection Rate : 0.009001        \n",
       "   Detection Prevalence : 0.133040        \n",
       "      Balanced Accuracy : 0.899440        \n",
       "                                          \n",
       "       'Positive' Class : 1               \n",
       "                                          "
      ]
     },
     "metadata": {},
     "output_type": "display_data"
    }
   ],
   "source": [
    "tree_cross_over_pred<- predict(tree_corss_over, test)\n",
    "\n",
    "confusionMatrix(tree_cross_over_pred, test$Case.status, positive = \"1\")"
   ]
  },
  {
   "cell_type": "markdown",
   "id": "cf69d358",
   "metadata": {},
   "source": [
    "## Uner-Sampling"
   ]
  },
  {
   "cell_type": "code",
   "execution_count": 57,
   "id": "a8069447",
   "metadata": {},
   "outputs": [
    {
     "data": {
      "text/plain": [
       "Confusion Matrix and Statistics\n",
       "\n",
       "          Reference\n",
       "Prediction    0    1\n",
       "         0 2081  217\n",
       "         1  287 2103\n",
       "                                          \n",
       "               Accuracy : 0.8925          \n",
       "                 95% CI : (0.8833, 0.9012)\n",
       "    No Information Rate : 0.5051          \n",
       "    P-Value [Acc > NIR] : < 2.2e-16       \n",
       "                                          \n",
       "                  Kappa : 0.785           \n",
       "                                          \n",
       " Mcnemar's Test P-Value : 0.002116        \n",
       "                                          \n",
       "            Sensitivity : 0.9065          \n",
       "            Specificity : 0.8788          \n",
       "         Pos Pred Value : 0.8799          \n",
       "         Neg Pred Value : 0.9056          \n",
       "             Prevalence : 0.4949          \n",
       "         Detection Rate : 0.4486          \n",
       "   Detection Prevalence : 0.5098          \n",
       "      Balanced Accuracy : 0.8926          \n",
       "                                          \n",
       "       'Positive' Class : 1               \n",
       "                                          "
      ]
     },
     "metadata": {},
     "output_type": "display_data"
    }
   ],
   "source": [
    "tree <- ctree(Case.status ~., data=under)\n",
    "trainPred <- predict(tree, newdata = under)\n",
    "confusionMatrix(as.factor(trainPred), under$Case.status, positive = \"1\")"
   ]
  },
  {
   "cell_type": "markdown",
   "id": "5de4b54c",
   "metadata": {},
   "source": [
    "## Uner-Sampling with Cv"
   ]
  },
  {
   "cell_type": "code",
   "execution_count": 58,
   "id": "86ce5187",
   "metadata": {},
   "outputs": [
    {
     "name": "stdout",
     "output_type": "stream",
     "text": [
      "\n",
      "\t Conditional inference tree with 11 terminal nodes\n",
      "\n",
      "Response:  Case.status \n",
      "Inputs:  Alberta.Health.Services.Zone.Calgary.Zone, Alberta.Health.Services.Zone.Central.Zone, Alberta.Health.Services.Zone.Edmonton.Zone, Alberta.Health.Services.Zone.North.Zone, Alberta.Health.Services.Zone.South.Zone, Alberta.Health.Services.Zone.Unknown, Gender, Age.group, Case.type \n",
      "Number of observations:  4688 \n",
      "\n",
      "1) Age.group == {6, 5, 7, 4, 8, 3, 2, 1}; criterion = 1, statistic = 3146.798\n",
      "  2) Age.group == {6, 5, 7, 4, 3, 2, 1}; criterion = 1, statistic = 362.228\n",
      "    3) Age.group == {6, 5, 4, 3, 2, 1}; criterion = 1, statistic = 102.418\n",
      "      4) Age.group == {6, 5}; criterion = 0.976, statistic = 18.219\n",
      "        5)*  weights = 906 \n",
      "      4) Age.group == {4, 3, 2, 1}\n",
      "        6) Alberta.Health.Services.Zone.Central.Zone <= 0; criterion = 0.999, statistic = 14.938\n",
      "          7)*  weights = 507 \n",
      "        6) Alberta.Health.Services.Zone.Central.Zone > 0\n",
      "          8)*  weights = 68 \n",
      "    3) Age.group == {7}\n",
      "      9) Alberta.Health.Services.Zone.South.Zone <= 0; criterion = 0.959, statistic = 8.032\n",
      "        10)*  weights = 419 \n",
      "      9) Alberta.Health.Services.Zone.South.Zone > 0\n",
      "        11)*  weights = 25 \n",
      "  2) Age.group == {8}\n",
      "    12) Alberta.Health.Services.Zone.North.Zone <= 0; criterion = 0.966, statistic = 8.387\n",
      "      13)*  weights = 313 \n",
      "    12) Alberta.Health.Services.Zone.North.Zone > 0\n",
      "      14)*  weights = 60 \n",
      "1) Age.group == {9, 10, 80+ years}\n",
      "  15) Age.group == {9}; criterion = 1, statistic = 311.839\n",
      "    16)*  weights = 456 \n",
      "  15) Age.group == {10, 80+ years}\n",
      "    17) Age.group == {10}; criterion = 1, statistic = 38.969\n",
      "      18)*  weights = 582 \n",
      "    17) Age.group == {80+ years}\n",
      "      19) Alberta.Health.Services.Zone.North.Zone <= 0; criterion = 0.962, statistic = 8.162\n",
      "        20)*  weights = 1233 \n",
      "      19) Alberta.Health.Services.Zone.North.Zone > 0\n",
      "        21)*  weights = 119 \n"
     ]
    }
   ],
   "source": [
    "control<- trainControl(method = \"cv\", number= 10)\n",
    "set.seed(8, sample.kind = \"Rounding\")\n",
    "tree_corss_under<- under %>% ctree(Case.status ~ ., data=.)\n",
    "print(tree_corss_under)"
   ]
  },
  {
   "cell_type": "code",
   "execution_count": 59,
   "id": "db8434c1",
   "metadata": {},
   "outputs": [
    {
     "data": {
      "text/plain": [
       "Confusion Matrix and Statistics\n",
       "\n",
       "          Reference\n",
       "Prediction    0    1\n",
       "         0 2081  217\n",
       "         1  287 2103\n",
       "                                          \n",
       "               Accuracy : 0.8925          \n",
       "                 95% CI : (0.8833, 0.9012)\n",
       "    No Information Rate : 0.5051          \n",
       "    P-Value [Acc > NIR] : < 2.2e-16       \n",
       "                                          \n",
       "                  Kappa : 0.785           \n",
       "                                          \n",
       " Mcnemar's Test P-Value : 0.002116        \n",
       "                                          \n",
       "            Sensitivity : 0.9065          \n",
       "            Specificity : 0.8788          \n",
       "         Pos Pred Value : 0.8799          \n",
       "         Neg Pred Value : 0.9056          \n",
       "             Prevalence : 0.4949          \n",
       "         Detection Rate : 0.4486          \n",
       "   Detection Prevalence : 0.5098          \n",
       "      Balanced Accuracy : 0.8926          \n",
       "                                          \n",
       "       'Positive' Class : 1               \n",
       "                                          "
      ]
     },
     "metadata": {},
     "output_type": "display_data"
    }
   ],
   "source": [
    "tree <- ctree(Case.status ~., data=under)\n",
    "trainPred <- predict(tree, newdata = under)\n",
    "confusionMatrix(as.factor(trainPred), under$Case.status, positive = \"1\")"
   ]
  },
  {
   "cell_type": "markdown",
   "id": "2f5b957c",
   "metadata": {},
   "source": [
    "## 3. Clustering"
   ]
  },
  {
   "cell_type": "code",
   "execution_count": 60,
   "id": "ca3357df",
   "metadata": {},
   "outputs": [
    {
     "data": {
      "text/html": [
       "<table>\n",
       "<thead><tr><th scope=col>Alberta.Health.Services.Zone.Calgary.Zone</th><th scope=col>Alberta.Health.Services.Zone.Central.Zone</th><th scope=col>Alberta.Health.Services.Zone.Edmonton.Zone</th><th scope=col>Alberta.Health.Services.Zone.North.Zone</th><th scope=col>Alberta.Health.Services.Zone.South.Zone</th><th scope=col>Alberta.Health.Services.Zone.Unknown</th><th scope=col>Gender</th><th scope=col>Age.group</th><th scope=col>Case.status</th><th scope=col>Case.type</th></tr></thead>\n",
       "<tbody>\n",
       "\t<tr><td>1  </td><td>0  </td><td>0  </td><td>0  </td><td>0  </td><td>0  </td><td>1  </td><td>0.7</td><td>0  </td><td>0  </td></tr>\n",
       "\t<tr><td>0  </td><td>0  </td><td>1  </td><td>0  </td><td>0  </td><td>0  </td><td>0  </td><td>0.0</td><td>0  </td><td>0  </td></tr>\n",
       "\t<tr><td>0  </td><td>0  </td><td>0  </td><td>1  </td><td>0  </td><td>0  </td><td>0  </td><td>0.3</td><td>0  </td><td>0  </td></tr>\n",
       "\t<tr><td>0  </td><td>0  </td><td>1  </td><td>0  </td><td>0  </td><td>0  </td><td>0  </td><td>0.6</td><td>0  </td><td>0  </td></tr>\n",
       "\t<tr><td>0  </td><td>1  </td><td>0  </td><td>0  </td><td>0  </td><td>0  </td><td>0  </td><td>0.4</td><td>0  </td><td>0  </td></tr>\n",
       "\t<tr><td>0  </td><td>0  </td><td>1  </td><td>0  </td><td>0  </td><td>0  </td><td>0  </td><td>0.5</td><td>0  </td><td>0  </td></tr>\n",
       "</tbody>\n",
       "</table>\n"
      ],
      "text/latex": [
       "\\begin{tabular}{r|llllllllll}\n",
       " Alberta.Health.Services.Zone.Calgary.Zone & Alberta.Health.Services.Zone.Central.Zone & Alberta.Health.Services.Zone.Edmonton.Zone & Alberta.Health.Services.Zone.North.Zone & Alberta.Health.Services.Zone.South.Zone & Alberta.Health.Services.Zone.Unknown & Gender & Age.group & Case.status & Case.type\\\\\n",
       "\\hline\n",
       "\t 1   & 0   & 0   & 0   & 0   & 0   & 1   & 0.7 & 0   & 0  \\\\\n",
       "\t 0   & 0   & 1   & 0   & 0   & 0   & 0   & 0.0 & 0   & 0  \\\\\n",
       "\t 0   & 0   & 0   & 1   & 0   & 0   & 0   & 0.3 & 0   & 0  \\\\\n",
       "\t 0   & 0   & 1   & 0   & 0   & 0   & 0   & 0.6 & 0   & 0  \\\\\n",
       "\t 0   & 1   & 0   & 0   & 0   & 0   & 0   & 0.4 & 0   & 0  \\\\\n",
       "\t 0   & 0   & 1   & 0   & 0   & 0   & 0   & 0.5 & 0   & 0  \\\\\n",
       "\\end{tabular}\n"
      ],
      "text/markdown": [
       "\n",
       "| Alberta.Health.Services.Zone.Calgary.Zone | Alberta.Health.Services.Zone.Central.Zone | Alberta.Health.Services.Zone.Edmonton.Zone | Alberta.Health.Services.Zone.North.Zone | Alberta.Health.Services.Zone.South.Zone | Alberta.Health.Services.Zone.Unknown | Gender | Age.group | Case.status | Case.type |\n",
       "|---|---|---|---|---|---|---|---|---|---|\n",
       "| 1   | 0   | 0   | 0   | 0   | 0   | 1   | 0.7 | 0   | 0   |\n",
       "| 0   | 0   | 1   | 0   | 0   | 0   | 0   | 0.0 | 0   | 0   |\n",
       "| 0   | 0   | 0   | 1   | 0   | 0   | 0   | 0.3 | 0   | 0   |\n",
       "| 0   | 0   | 1   | 0   | 0   | 0   | 0   | 0.6 | 0   | 0   |\n",
       "| 0   | 1   | 0   | 0   | 0   | 0   | 0   | 0.4 | 0   | 0   |\n",
       "| 0   | 0   | 1   | 0   | 0   | 0   | 0   | 0.5 | 0   | 0   |\n",
       "\n"
      ],
      "text/plain": [
       "  Alberta.Health.Services.Zone.Calgary.Zone\n",
       "1 1                                        \n",
       "2 0                                        \n",
       "3 0                                        \n",
       "4 0                                        \n",
       "5 0                                        \n",
       "6 0                                        \n",
       "  Alberta.Health.Services.Zone.Central.Zone\n",
       "1 0                                        \n",
       "2 0                                        \n",
       "3 0                                        \n",
       "4 0                                        \n",
       "5 1                                        \n",
       "6 0                                        \n",
       "  Alberta.Health.Services.Zone.Edmonton.Zone\n",
       "1 0                                         \n",
       "2 1                                         \n",
       "3 0                                         \n",
       "4 1                                         \n",
       "5 0                                         \n",
       "6 1                                         \n",
       "  Alberta.Health.Services.Zone.North.Zone\n",
       "1 0                                      \n",
       "2 0                                      \n",
       "3 1                                      \n",
       "4 0                                      \n",
       "5 0                                      \n",
       "6 0                                      \n",
       "  Alberta.Health.Services.Zone.South.Zone Alberta.Health.Services.Zone.Unknown\n",
       "1 0                                       0                                   \n",
       "2 0                                       0                                   \n",
       "3 0                                       0                                   \n",
       "4 0                                       0                                   \n",
       "5 0                                       0                                   \n",
       "6 0                                       0                                   \n",
       "  Gender Age.group Case.status Case.type\n",
       "1 1      0.7       0           0        \n",
       "2 0      0.0       0           0        \n",
       "3 0      0.3       0           0        \n",
       "4 0      0.6       0           0        \n",
       "5 0      0.4       0           0        \n",
       "6 0      0.5       0           0        "
      ]
     },
     "metadata": {},
     "output_type": "display_data"
    }
   ],
   "source": [
    " \n",
    "# normalization scaling for the data before clustering\n",
    "\n",
    " normalz <-function(x) {\n",
    "     z=as.numeric(x)\n",
    "     if(min(as.numeric(x)) < max(as.numeric(x)))\n",
    "        {\n",
    "         \n",
    "              z=( (as.numeric(x) -min(as.numeric(x))) / (max(as.numeric(x))-min(as.numeric(x))) )\n",
    "       }\n",
    "      return(z)        }\n",
    "        \n",
    " \n",
    "norm_df <- as.data.frame(lapply(df_encoded, normalz))\n",
    "head(norm_df)"
   ]
  },
  {
   "cell_type": "code",
   "execution_count": 61,
   "id": "95a624e7",
   "metadata": {},
   "outputs": [],
   "source": [
    "set.seed(123)\n",
    "split = sample.split(norm_df$Case.status, SplitRatio = 0.8)\n",
    "norm_train = subset(norm_df, split == TRUE)\n",
    "norm_test = subset(norm_df, split == FALSE)"
   ]
  },
  {
   "cell_type": "markdown",
   "id": "4e4893e0",
   "metadata": {},
   "source": [
    "### 3.1 KNN\n",
    "> Cannot fit the data\n",
    ">>there are too many neighbors equidistant to the target point, such that the algorithm cannot choose only k of them"
   ]
  },
  {
   "cell_type": "code",
   "execution_count": 44,
   "id": "13903bef",
   "metadata": {},
   "outputs": [],
   "source": [
    "##load the package class\n",
    "#library(class)\n",
    "##run knn function\n",
    "#kn <- knn(train = subset(norm_train, select=-c(Type)),\n",
    "#                      test =subset(norm_test, select=-c(Type)) ,\n",
    "#                      cl = norm_train$Type,\n",
    "#                      k = 2)\n",
    " \n",
    "##create confusion matrix\n",
    "#conf <- table(kn,norm_train$Type)\n"
   ]
  },
  {
   "cell_type": "markdown",
   "id": "4b4762e7",
   "metadata": {},
   "source": [
    "### 3.2 Kmeans"
   ]
  },
  {
   "cell_type": "code",
   "execution_count": 62,
   "id": "e839f7be",
   "metadata": {},
   "outputs": [
    {
     "data": {
      "text/html": [
       "<ol class=list-inline>\n",
       "\t<li>312902.356744215</li>\n",
       "\t<li>218157.879353222</li>\n",
       "\t<li>155612.850768177</li>\n",
       "\t<li>122210.189526403</li>\n",
       "\t<li>93943.2022953569</li>\n",
       "\t<li>70020.4543235897</li>\n",
       "\t<li>46152.728816693</li>\n",
       "</ol>\n"
      ],
      "text/latex": [
       "\\begin{enumerate*}\n",
       "\\item 312902.356744215\n",
       "\\item 218157.879353222\n",
       "\\item 155612.850768177\n",
       "\\item 122210.189526403\n",
       "\\item 93943.2022953569\n",
       "\\item 70020.4543235897\n",
       "\\item 46152.728816693\n",
       "\\end{enumerate*}\n"
      ],
      "text/markdown": [
       "1. 312902.356744215\n",
       "2. 218157.879353222\n",
       "3. 155612.850768177\n",
       "4. 122210.189526403\n",
       "5. 93943.2022953569\n",
       "6. 70020.4543235897\n",
       "7. 46152.728816693\n",
       "\n",
       "\n"
      ],
      "text/plain": [
       "[1] 312902.36 218157.88 155612.85 122210.19  93943.20  70020.45  46152.73"
      ]
     },
     "metadata": {},
     "output_type": "display_data"
    },
    {
     "data": {
      "image/png": "[encoded data removed]",
      "text/plain": [
       "plot without title"
      ]
     },
     "metadata": {},
     "output_type": "display_data"
    }
   ],
   "source": [
    "fig(7,5)\n",
    "#Elbow Method for finding the optimal number of clusters\n",
    "set.seed(917)\n",
    "# Compute and plot wss for k = 2 to k = 7.\n",
    "k.max <- 7\n",
    "data <- norm_df\n",
    "wss <- sapply(1:k.max, \n",
    "              function(k){kmeans(data, k, nstart=50,iter.max = 15 )$tot.withinss})\n",
    "wss\n",
    "plot(1:k.max, wss,\n",
    "     type=\"b\", pch = 19, frame = FALSE, \n",
    "     xlab=\"Number of clusters K\",\n",
    "     ylab=\"Total within-clusters sum of squares\")"
   ]
  },
  {
   "cell_type": "code",
   "execution_count": 63,
   "id": "fad8f4ab",
   "metadata": {},
   "outputs": [
    {
     "data": {
      "text/html": [
       "0"
      ],
      "text/latex": [
       "0"
      ],
      "text/markdown": [
       "0"
      ],
      "text/plain": [
       "[1] 0"
      ]
     },
     "metadata": {},
     "output_type": "display_data"
    }
   ],
   "source": [
    "sum(is.na(norm_df))"
   ]
  },
  {
   "cell_type": "code",
   "execution_count": 87,
   "id": "b1cdf813",
   "metadata": {},
   "outputs": [
    {
     "name": "stdout",
     "output_type": "stream",
     "text": [
      "List of 9\n",
      " $ cluster     : Named int [1:297729] 1 2 1 2 1 2 1 1 2 1 ...\n",
      "  ..- attr(*, \"names\")= chr [1:297729] \"1\" \"2\" \"3\" \"4\" ...\n",
      " $ centers     : num [1:2, 1:9] 0.559 0 0.153 0 0 ...\n",
      "  ..- attr(*, \"dimnames\")=List of 2\n",
      "  .. ..$ : chr [1:2] \"1\" \"2\"\n",
      "  .. ..$ : chr [1:9] \"Alberta.Health.Services.Zone.Calgary.Zone\" \"Alberta.Health.Services.Zone.Central.Zone\" \"Alberta.Health.Services.Zone.Edmonton.Zone\" \"Alberta.Health.Services.Zone.North.Zone\" ...\n",
      " $ totss       : num 310031\n",
      " $ withinss    : num [1:2] 189851 30545\n",
      " $ tot.withinss: num 220396\n",
      " $ betweenss   : num 89634\n",
      " $ size        : int [1:2] 202264 95465\n",
      " $ iter        : int 1\n",
      " $ ifault      : int 0\n",
      " - attr(*, \"class\")= chr \"kmeans\"\n"
     ]
    },
    {
     "data": {
      "text/plain": [
       "   \n",
       "         0      1\n",
       "  1 200604   1660\n",
       "  2  94225   1240"
      ]
     },
     "metadata": {},
     "output_type": "display_data"
    }
   ],
   "source": [
    "#Run k-means cluster of the dataset\n",
    "set.seed(1321)\n",
    "\n",
    "km <- kmeans(subset(norm_df, select=-c(Case.status)), 2)\n",
    "str(km)\n",
    "#Tabulate the cross distribution\n",
    "table(km$cluster,norm_df$Case.status)\n"
   ]
  },
  {
   "cell_type": "code",
   "execution_count": 67,
   "id": "7fdd5c7c",
   "metadata": {},
   "outputs": [
    {
     "name": "stderr",
     "output_type": "stream",
     "text": [
      "`geom_smooth()` using formula 'y ~ x'\n"
     ]
    },
    {
     "data": {
      "image/png": "[encoded data removed]",
      "text/plain": [
       "plot without title"
      ]
     },
     "metadata": {},
     "output_type": "display_data"
    }
   ],
   "source": [
    "# visulaize clusters\n",
    "km$cluster <- factor(km$cluster)\n",
    "\n",
    "ggplot(norm_df, aes(Case.status, Gender, color=as.factor(Case.status), shape=as.factor(Case.status))) +\n",
    "  geom_point() + \n",
    "  geom_smooth(method=lm, se=FALSE, fullrange=TRUE)+\n",
    "  scale_shape_manual(values=c( 16, 17))+ \n",
    "  scale_color_manual(values=c('red', 'blue'))+\n",
    "  theme(legend.position=\"top\")"
   ]
  },
  {
   "cell_type": "markdown",
   "id": "5bf8e1ef",
   "metadata": {},
   "source": [
    "### 3.4. Ensemble( Random Forest)"
   ]
  },
  {
   "cell_type": "code",
   "execution_count": 70,
   "id": "dc608b9c",
   "metadata": {},
   "outputs": [],
   "source": [
    "train=na.omit(train)\n",
    "test=na.omit(test)\n",
    "train=train[sample(nrow(train), 10000), ]\n",
    "test=test[sample(nrow(test), 10000), ]\n"
   ]
  },
  {
   "cell_type": "code",
   "execution_count": 72,
   "id": "7bdb26ec",
   "metadata": {},
   "outputs": [],
   "source": [
    "library(randomForest)\n",
    "require(caTools)\n",
    "rf <- randomForest(\n",
    "  Case.status ~ .,\n",
    "  data=train\n",
    ")\n"
   ]
  },
  {
   "cell_type": "code",
   "execution_count": 74,
   "id": "b02897cf",
   "metadata": {},
   "outputs": [
    {
     "data": {
      "text/html": [
       "<table>\n",
       "<thead><tr><th></th><th scope=col>Alberta.Health.Services.Zone.Calgary.Zone</th><th scope=col>Alberta.Health.Services.Zone.Central.Zone</th><th scope=col>Alberta.Health.Services.Zone.Edmonton.Zone</th><th scope=col>Alberta.Health.Services.Zone.North.Zone</th><th scope=col>Alberta.Health.Services.Zone.South.Zone</th><th scope=col>Alberta.Health.Services.Zone.Unknown</th><th scope=col>Gender</th><th scope=col>Age.group</th><th scope=col>Case.status</th><th scope=col>Case.type</th></tr></thead>\n",
       "<tbody>\n",
       "\t<tr><th scope=row>224034</th><td>0</td><td>0</td><td>1</td><td>0</td><td>0</td><td>0</td><td>1</td><td>6</td><td>0</td><td>1</td></tr>\n",
       "\t<tr><th scope=row>294621</th><td>0</td><td>0</td><td>0</td><td>1</td><td>0</td><td>0</td><td>0</td><td>6</td><td>0</td><td>1</td></tr>\n",
       "\t<tr><th scope=row>127755</th><td>1</td><td>0</td><td>0</td><td>0</td><td>0</td><td>0</td><td>1</td><td>5</td><td>0</td><td>1</td></tr>\n",
       "\t<tr><th scope=row>36349</th><td>1</td><td>0</td><td>0</td><td>0</td><td>0</td><td>0</td><td>0</td><td>7</td><td>0</td><td>1</td></tr>\n",
       "\t<tr><th scope=row>214981</th><td>0</td><td>1</td><td>0</td><td>0</td><td>0</td><td>0</td><td>0</td><td>8</td><td>0</td><td>1</td></tr>\n",
       "\t<tr><th scope=row>150516</th><td>1</td><td>0</td><td>0</td><td>0</td><td>0</td><td>0</td><td>1</td><td>9</td><td>0</td><td>1</td></tr>\n",
       "</tbody>\n",
       "</table>\n"
      ],
      "text/latex": [
       "\\begin{tabular}{r|llllllllll}\n",
       "  & Alberta.Health.Services.Zone.Calgary.Zone & Alberta.Health.Services.Zone.Central.Zone & Alberta.Health.Services.Zone.Edmonton.Zone & Alberta.Health.Services.Zone.North.Zone & Alberta.Health.Services.Zone.South.Zone & Alberta.Health.Services.Zone.Unknown & Gender & Age.group & Case.status & Case.type\\\\\n",
       "\\hline\n",
       "\t224034 & 0 & 0 & 1 & 0 & 0 & 0 & 1 & 6 & 0 & 1\\\\\n",
       "\t294621 & 0 & 0 & 0 & 1 & 0 & 0 & 0 & 6 & 0 & 1\\\\\n",
       "\t127755 & 1 & 0 & 0 & 0 & 0 & 0 & 1 & 5 & 0 & 1\\\\\n",
       "\t36349 & 1 & 0 & 0 & 0 & 0 & 0 & 0 & 7 & 0 & 1\\\\\n",
       "\t214981 & 0 & 1 & 0 & 0 & 0 & 0 & 0 & 8 & 0 & 1\\\\\n",
       "\t150516 & 1 & 0 & 0 & 0 & 0 & 0 & 1 & 9 & 0 & 1\\\\\n",
       "\\end{tabular}\n"
      ],
      "text/markdown": [
       "\n",
       "| <!--/--> | Alberta.Health.Services.Zone.Calgary.Zone | Alberta.Health.Services.Zone.Central.Zone | Alberta.Health.Services.Zone.Edmonton.Zone | Alberta.Health.Services.Zone.North.Zone | Alberta.Health.Services.Zone.South.Zone | Alberta.Health.Services.Zone.Unknown | Gender | Age.group | Case.status | Case.type |\n",
       "|---|---|---|---|---|---|---|---|---|---|---|\n",
       "| 224034 | 0 | 0 | 1 | 0 | 0 | 0 | 1 | 6 | 0 | 1 |\n",
       "| 294621 | 0 | 0 | 0 | 1 | 0 | 0 | 0 | 6 | 0 | 1 |\n",
       "| 127755 | 1 | 0 | 0 | 0 | 0 | 0 | 1 | 5 | 0 | 1 |\n",
       "| 36349 | 1 | 0 | 0 | 0 | 0 | 0 | 0 | 7 | 0 | 1 |\n",
       "| 214981 | 0 | 1 | 0 | 0 | 0 | 0 | 0 | 8 | 0 | 1 |\n",
       "| 150516 | 1 | 0 | 0 | 0 | 0 | 0 | 1 | 9 | 0 | 1 |\n",
       "\n"
      ],
      "text/plain": [
       "       Alberta.Health.Services.Zone.Calgary.Zone\n",
       "224034 0                                        \n",
       "294621 0                                        \n",
       "127755 1                                        \n",
       "36349  1                                        \n",
       "214981 0                                        \n",
       "150516 1                                        \n",
       "       Alberta.Health.Services.Zone.Central.Zone\n",
       "224034 0                                        \n",
       "294621 0                                        \n",
       "127755 0                                        \n",
       "36349  0                                        \n",
       "214981 1                                        \n",
       "150516 0                                        \n",
       "       Alberta.Health.Services.Zone.Edmonton.Zone\n",
       "224034 1                                         \n",
       "294621 0                                         \n",
       "127755 0                                         \n",
       "36349  0                                         \n",
       "214981 0                                         \n",
       "150516 0                                         \n",
       "       Alberta.Health.Services.Zone.North.Zone\n",
       "224034 0                                      \n",
       "294621 1                                      \n",
       "127755 0                                      \n",
       "36349  0                                      \n",
       "214981 0                                      \n",
       "150516 0                                      \n",
       "       Alberta.Health.Services.Zone.South.Zone\n",
       "224034 0                                      \n",
       "294621 0                                      \n",
       "127755 0                                      \n",
       "36349  0                                      \n",
       "214981 0                                      \n",
       "150516 0                                      \n",
       "       Alberta.Health.Services.Zone.Unknown Gender Age.group Case.status\n",
       "224034 0                                    1      6         0          \n",
       "294621 0                                    0      6         0          \n",
       "127755 0                                    1      5         0          \n",
       "36349  0                                    0      7         0          \n",
       "214981 0                                    0      8         0          \n",
       "150516 0                                    1      9         0          \n",
       "       Case.type\n",
       "224034 1        \n",
       "294621 1        \n",
       "127755 1        \n",
       "36349  1        \n",
       "214981 1        \n",
       "150516 1        "
      ]
     },
     "metadata": {},
     "output_type": "display_data"
    }
   ],
   "source": [
    "head(train)"
   ]
  },
  {
   "cell_type": "code",
   "execution_count": 75,
   "id": "b0346526",
   "metadata": {},
   "outputs": [
    {
     "data": {
      "text/plain": [
       "Confusion Matrix and Statistics\n",
       "\n",
       "          Reference\n",
       "Prediction    0    1\n",
       "         0 9903   97\n",
       "         1    0    0\n",
       "                                          \n",
       "               Accuracy : 0.9903          \n",
       "                 95% CI : (0.9882, 0.9921)\n",
       "    No Information Rate : 0.9903          \n",
       "    P-Value [Acc > NIR] : 0.527           \n",
       "                                          \n",
       "                  Kappa : 0               \n",
       "                                          \n",
       " Mcnemar's Test P-Value : <2e-16          \n",
       "                                          \n",
       "            Sensitivity : 0.0000          \n",
       "            Specificity : 1.0000          \n",
       "         Pos Pred Value :    NaN          \n",
       "         Neg Pred Value : 0.9903          \n",
       "             Prevalence : 0.0097          \n",
       "         Detection Rate : 0.0000          \n",
       "   Detection Prevalence : 0.0000          \n",
       "      Balanced Accuracy : 0.5000          \n",
       "                                          \n",
       "       'Positive' Class : 1               \n",
       "                                          "
      ]
     },
     "metadata": {},
     "output_type": "display_data"
    }
   ],
   "source": [
    "library(caret)\n",
    "\n",
    "pred = predict(rf, newdata=train)\n",
    "confusionMatrix(as.factor(pred), train$Case.status, positive = \"1\")"
   ]
  },
  {
   "cell_type": "code",
   "execution_count": 76,
   "id": "51f3a9de",
   "metadata": {},
   "outputs": [
    {
     "data": {
      "text/plain": [
       "Confusion Matrix and Statistics\n",
       "\n",
       "          Reference\n",
       "Prediction    0    1\n",
       "         0 9907   93\n",
       "         1    0    0\n",
       "                                          \n",
       "               Accuracy : 0.9907          \n",
       "                 95% CI : (0.9886, 0.9925)\n",
       "    No Information Rate : 0.9907          \n",
       "    P-Value [Acc > NIR] : 0.5275          \n",
       "                                          \n",
       "                  Kappa : 0               \n",
       "                                          \n",
       " Mcnemar's Test P-Value : <2e-16          \n",
       "                                          \n",
       "            Sensitivity : 0.0000          \n",
       "            Specificity : 1.0000          \n",
       "         Pos Pred Value :    NaN          \n",
       "         Neg Pred Value : 0.9907          \n",
       "             Prevalence : 0.0093          \n",
       "         Detection Rate : 0.0000          \n",
       "   Detection Prevalence : 0.0000          \n",
       "      Balanced Accuracy : 0.5000          \n",
       "                                          \n",
       "       'Positive' Class : 1               \n",
       "                                          "
      ]
     },
     "metadata": {},
     "output_type": "display_data"
    }
   ],
   "source": [
    "pred = predict(rf, newdata=test)\n",
    "\n",
    "confusionMatrix(as.factor(pred), test$Case.status, positive = \"1\")"
   ]
  },
  {
   "cell_type": "markdown",
   "id": "4b4d6eab",
   "metadata": {},
   "source": [
    "## Over-Sampling\n"
   ]
  },
  {
   "cell_type": "code",
   "execution_count": 78,
   "id": "37673e4a",
   "metadata": {},
   "outputs": [
    {
     "data": {
      "text/plain": [
       "Confusion Matrix and Statistics\n",
       "\n",
       "          Reference\n",
       "Prediction    0    1\n",
       "         0 2505 2436\n",
       "         1 2507 2552\n",
       "                                          \n",
       "               Accuracy : 0.5057          \n",
       "                 95% CI : (0.4959, 0.5155)\n",
       "    No Information Rate : 0.5012          \n",
       "    P-Value [Acc > NIR] : 0.1867          \n",
       "                                          \n",
       "                  Kappa : 0.0114          \n",
       "                                          \n",
       " Mcnemar's Test P-Value : 0.3194          \n",
       "                                          \n",
       "            Sensitivity : 0.5116          \n",
       "            Specificity : 0.4998          \n",
       "         Pos Pred Value : 0.5044          \n",
       "         Neg Pred Value : 0.5070          \n",
       "             Prevalence : 0.4988          \n",
       "         Detection Rate : 0.2552          \n",
       "   Detection Prevalence : 0.5059          \n",
       "      Balanced Accuracy : 0.5057          \n",
       "                                          \n",
       "       'Positive' Class : 1               \n",
       "                                          "
      ]
     },
     "metadata": {},
     "output_type": "display_data"
    }
   ],
   "source": [
    "set.seed(555)\n",
    "rf <- randomForest(\n",
    "  Case.status ~ .,\n",
    "  data=over[sample(nrow(over), 10000), ]\n",
    ")\n",
    "\n",
    "pred = predict(rf, newdata=over[sample(nrow(over), 10000), ])\n",
    "\n",
    "confusionMatrix(as.factor(pred), over[sample(nrow(over), 10000), ]$Case.status, positive = \"1\")"
   ]
  },
  {
   "cell_type": "code",
   "execution_count": 80,
   "id": "7a215815",
   "metadata": {},
   "outputs": [
    {
     "data": {
      "text/plain": [
       "Confusion Matrix and Statistics\n",
       "\n",
       "          Reference\n",
       "Prediction   0   1\n",
       "         0 864   0\n",
       "         1 128   8\n",
       "                                          \n",
       "               Accuracy : 0.872           \n",
       "                 95% CI : (0.8497, 0.8921)\n",
       "    No Information Rate : 0.992           \n",
       "    P-Value [Acc > NIR] : 1               \n",
       "                                          \n",
       "                  Kappa : 0.0975          \n",
       "                                          \n",
       " Mcnemar's Test P-Value : <2e-16          \n",
       "                                          \n",
       "            Sensitivity : 1.00000         \n",
       "            Specificity : 0.87097         \n",
       "         Pos Pred Value : 0.05882         \n",
       "         Neg Pred Value : 1.00000         \n",
       "             Prevalence : 0.00800         \n",
       "         Detection Rate : 0.00800         \n",
       "   Detection Prevalence : 0.13600         \n",
       "      Balanced Accuracy : 0.93548         \n",
       "                                          \n",
       "       'Positive' Class : 1               \n",
       "                                          "
      ]
     },
     "metadata": {},
     "output_type": "display_data"
    }
   ],
   "source": [
    "pred = predict(rf, newdata=test[1:1000,])\n",
    "\n",
    "confusionMatrix(as.factor(pred), test[1:1000,]$Case.status, positive = \"1\")"
   ]
  },
  {
   "cell_type": "markdown",
   "id": "5e4879ad",
   "metadata": {},
   "source": [
    "## Under-Sampling"
   ]
  },
  {
   "cell_type": "code",
   "execution_count": 81,
   "id": "0a15f97f",
   "metadata": {},
   "outputs": [
    {
     "data": {
      "text/plain": [
       "Confusion Matrix and Statistics\n",
       "\n",
       "          Reference\n",
       "Prediction   0   1\n",
       "         0 244 225\n",
       "         1 280 251\n",
       "                                          \n",
       "               Accuracy : 0.495           \n",
       "                 95% CI : (0.4636, 0.5265)\n",
       "    No Information Rate : 0.524           \n",
       "    P-Value [Acc > NIR] : 0.96905         \n",
       "                                          \n",
       "                  Kappa : -0.007          \n",
       "                                          \n",
       " Mcnemar's Test P-Value : 0.01626         \n",
       "                                          \n",
       "            Sensitivity : 0.5273          \n",
       "            Specificity : 0.4656          \n",
       "         Pos Pred Value : 0.4727          \n",
       "         Neg Pred Value : 0.5203          \n",
       "             Prevalence : 0.4760          \n",
       "         Detection Rate : 0.2510          \n",
       "   Detection Prevalence : 0.5310          \n",
       "      Balanced Accuracy : 0.4965          \n",
       "                                          \n",
       "       'Positive' Class : 1               \n",
       "                                          "
      ]
     },
     "metadata": {},
     "output_type": "display_data"
    }
   ],
   "source": [
    "set.seed(777)\n",
    "rf <- randomForest(\n",
    "  Case.status ~ .,\n",
    "  data=under[sample(nrow(under), 1000), ]\n",
    ")\n",
    "pred = predict(rf, newdata=under[sample(nrow(under), 1000), ])\n",
    "\n",
    "confusionMatrix(as.factor(pred), under[sample(nrow(under), 1000), ]$Case.status, positive = \"1\")"
   ]
  },
  {
   "cell_type": "code",
   "execution_count": 82,
   "id": "c4558431",
   "metadata": {},
   "outputs": [
    {
     "data": {
      "text/plain": [
       "Confusion Matrix and Statistics\n",
       "\n",
       "          Reference\n",
       "Prediction   0   1\n",
       "         0 864   0\n",
       "         1 128   8\n",
       "                                          \n",
       "               Accuracy : 0.872           \n",
       "                 95% CI : (0.8497, 0.8921)\n",
       "    No Information Rate : 0.992           \n",
       "    P-Value [Acc > NIR] : 1               \n",
       "                                          \n",
       "                  Kappa : 0.0975          \n",
       "                                          \n",
       " Mcnemar's Test P-Value : <2e-16          \n",
       "                                          \n",
       "            Sensitivity : 1.00000         \n",
       "            Specificity : 0.87097         \n",
       "         Pos Pred Value : 0.05882         \n",
       "         Neg Pred Value : 1.00000         \n",
       "             Prevalence : 0.00800         \n",
       "         Detection Rate : 0.00800         \n",
       "   Detection Prevalence : 0.13600         \n",
       "      Balanced Accuracy : 0.93548         \n",
       "                                          \n",
       "       'Positive' Class : 1               \n",
       "                                          "
      ]
     },
     "metadata": {},
     "output_type": "display_data"
    }
   ],
   "source": [
    "pred = predict(rf, newdata=test[1:1000,])\n",
    "\n",
    "confusionMatrix(as.factor(pred), test[1:1000,]$Case.status, positive = \"1\")"
   ]
  },
  {
   "cell_type": "code",
   "execution_count": null,
   "id": "d9fc0ad1",
   "metadata": {},
   "outputs": [],
   "source": []
  }
 ],
 "metadata": {
  "kernelspec": {
   "display_name": "R",
   "language": "R",
   "name": "ir"
  },
  "language_info": {
   "codemirror_mode": "r",
   "file_extension": ".r",
   "mimetype": "text/x-r-source",
   "name": "R",
   "pygments_lexer": "r",
   "version": "3.6.1"
  }
 },
 "nbformat": 4,
 "nbformat_minor": 5
}
